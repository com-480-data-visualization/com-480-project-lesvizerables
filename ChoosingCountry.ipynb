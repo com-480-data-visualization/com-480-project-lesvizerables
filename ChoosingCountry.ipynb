{
 "cells": [
  {
   "cell_type": "markdown",
   "metadata": {},
   "source": [
    "## Which country do we want to visualize?"
   ]
  },
  {
   "cell_type": "code",
   "execution_count": 43,
   "metadata": {},
   "outputs": [],
   "source": [
    "# Import packages that are used\n",
    "import pandas as pd"
   ]
  },
  {
   "cell_type": "code",
   "execution_count": 53,
   "metadata": {},
   "outputs": [
    {
     "data": {
      "text/html": [
       "<div>\n",
       "<style scoped>\n",
       "    .dataframe tbody tr th:only-of-type {\n",
       "        vertical-align: middle;\n",
       "    }\n",
       "\n",
       "    .dataframe tbody tr th {\n",
       "        vertical-align: top;\n",
       "    }\n",
       "\n",
       "    .dataframe thead th {\n",
       "        text-align: right;\n",
       "    }\n",
       "</style>\n",
       "<table border=\"1\" class=\"dataframe\">\n",
       "  <thead>\n",
       "    <tr style=\"text-align: right;\">\n",
       "      <th></th>\n",
       "      <th>Unnamed: 0</th>\n",
       "      <th>country</th>\n",
       "      <th>description</th>\n",
       "      <th>designation</th>\n",
       "      <th>points</th>\n",
       "      <th>price</th>\n",
       "      <th>province</th>\n",
       "      <th>region_1</th>\n",
       "      <th>region_2</th>\n",
       "      <th>variety</th>\n",
       "      <th>winery</th>\n",
       "    </tr>\n",
       "  </thead>\n",
       "  <tbody>\n",
       "    <tr>\n",
       "      <td>0</td>\n",
       "      <td>0</td>\n",
       "      <td>US</td>\n",
       "      <td>This tremendous 100% varietal wine hails from ...</td>\n",
       "      <td>Martha's Vineyard</td>\n",
       "      <td>96</td>\n",
       "      <td>235.0</td>\n",
       "      <td>California</td>\n",
       "      <td>Napa Valley</td>\n",
       "      <td>Napa</td>\n",
       "      <td>Cabernet Sauvignon</td>\n",
       "      <td>Heitz</td>\n",
       "    </tr>\n",
       "    <tr>\n",
       "      <td>1</td>\n",
       "      <td>1</td>\n",
       "      <td>Spain</td>\n",
       "      <td>Ripe aromas of fig, blackberry and cassis are ...</td>\n",
       "      <td>Carodorum Selección Especial Reserva</td>\n",
       "      <td>96</td>\n",
       "      <td>110.0</td>\n",
       "      <td>Northern Spain</td>\n",
       "      <td>Toro</td>\n",
       "      <td>NaN</td>\n",
       "      <td>Tinta de Toro</td>\n",
       "      <td>Bodega Carmen Rodríguez</td>\n",
       "    </tr>\n",
       "    <tr>\n",
       "      <td>2</td>\n",
       "      <td>2</td>\n",
       "      <td>US</td>\n",
       "      <td>Mac Watson honors the memory of a wine once ma...</td>\n",
       "      <td>Special Selected Late Harvest</td>\n",
       "      <td>96</td>\n",
       "      <td>90.0</td>\n",
       "      <td>California</td>\n",
       "      <td>Knights Valley</td>\n",
       "      <td>Sonoma</td>\n",
       "      <td>Sauvignon Blanc</td>\n",
       "      <td>Macauley</td>\n",
       "    </tr>\n",
       "  </tbody>\n",
       "</table>\n",
       "</div>"
      ],
      "text/plain": [
       "   Unnamed: 0 country                                        description  \\\n",
       "0           0      US  This tremendous 100% varietal wine hails from ...   \n",
       "1           1   Spain  Ripe aromas of fig, blackberry and cassis are ...   \n",
       "2           2      US  Mac Watson honors the memory of a wine once ma...   \n",
       "\n",
       "                            designation  points  price        province  \\\n",
       "0                     Martha's Vineyard      96  235.0      California   \n",
       "1  Carodorum Selección Especial Reserva      96  110.0  Northern Spain   \n",
       "2         Special Selected Late Harvest      96   90.0      California   \n",
       "\n",
       "         region_1 region_2             variety                   winery  \n",
       "0     Napa Valley     Napa  Cabernet Sauvignon                    Heitz  \n",
       "1            Toro      NaN       Tinta de Toro  Bodega Carmen Rodríguez  \n",
       "2  Knights Valley   Sonoma     Sauvignon Blanc                 Macauley  "
      ]
     },
     "execution_count": 53,
     "metadata": {},
     "output_type": "execute_result"
    }
   ],
   "source": [
    "wines = pd.read_csv('Data/winemag-data_first150k.csv', sep = ',')\n",
    "wines.head(3)"
   ]
  },
  {
   "cell_type": "code",
   "execution_count": 54,
   "metadata": {},
   "outputs": [
    {
     "data": {
      "text/plain": [
       "US             62397\n",
       "Italy          23478\n",
       "France         21098\n",
       "Spain           8268\n",
       "Chile           5816\n",
       "Argentina       5631\n",
       "Portugal        5322\n",
       "Australia       4957\n",
       "New Zealand     3320\n",
       "Austria         3057\n",
       "Name: country, dtype: int64"
      ]
     },
     "execution_count": 54,
     "metadata": {},
     "output_type": "execute_result"
    }
   ],
   "source": [
    "# What countries are in the dataframe?\n",
    "wines.country.value_counts()[:10]"
   ]
  },
  {
   "cell_type": "markdown",
   "metadata": {},
   "source": [
    "Countries of interest are one of the top 3. Which one do we wanna work with? Lets look at how may regions that are included for the different countries first."
   ]
  },
  {
   "cell_type": "code",
   "execution_count": 55,
   "metadata": {},
   "outputs": [],
   "source": [
    "us = wines[wines.country.str.contains('US', na=False)]\n",
    "france = wines[wines.country.str.contains('France', na=False)]\n",
    "italy = wines[wines.country.str.contains('Italy', na=False)]"
   ]
  },
  {
   "cell_type": "markdown",
   "metadata": {},
   "source": [
    "### US"
   ]
  },
  {
   "cell_type": "code",
   "execution_count": 56,
   "metadata": {},
   "outputs": [
    {
     "name": "stdout",
     "output_type": "stream",
     "text": [
      "US Provinces:\n",
      "\n",
      " California                       44508\n",
      "Washington                        9750\n",
      "Oregon                            4589\n",
      "New York                          2428\n",
      "Virginia                           515\n",
      "Idaho                              136\n",
      "New Mexico                          95\n",
      "Missouri                            60\n",
      "Pennsylvania                        50\n",
      "Texas                               41\n",
      "Arizona                             39\n",
      "Ohio                                34\n",
      "Colorado                            30\n",
      "America                             27\n",
      "Michigan                            25\n",
      "New Jersey                          24\n",
      "North Carolina                      20\n",
      "Massachusetts                       10\n",
      "Iowa                                 4\n",
      "Kentucky                             4\n",
      "Washington-Oregon                    3\n",
      "Vermont                              2\n",
      "Connecticut                          2\n",
      "Santa Barbara County-Condrieu        1\n",
      "Nevada                               1\n",
      "Name: province, dtype: int64 \n",
      "\n",
      "US Region 1:\n",
      "\n",
      " Napa Valley                        6209\n",
      "Columbia Valley (WA)               4975\n",
      "Russian River Valley               3571\n",
      "California                         3462\n",
      "Paso Robles                        3053\n",
      "                                   ... \n",
      "El Pomar District                     1\n",
      "Ventura County                        1\n",
      "Mendocino-Amador-Napa                 1\n",
      "Sonoma County-Monterey County         1\n",
      "San Luis Obispo-Sonoma-Monterey       1\n",
      "Name: region_1, Length: 265, dtype: int64 \n",
      "\n",
      "US Region 2:\n",
      "\n",
      " Central Coast              13057\n",
      "Sonoma                     11258\n",
      "Columbia Valley             9157\n",
      "Napa                        8801\n",
      "California Other            3516\n",
      "Willamette Valley           3181\n",
      "Mendocino/Lake Counties     2389\n",
      "Sierra Foothills            1660\n",
      "Napa-Sonoma                 1645\n",
      "Finger Lakes                1510\n",
      "Central Valley              1115\n",
      "Long Island                  771\n",
      "Southern Oregon              662\n",
      "Oregon Other                 661\n",
      "North Coast                  632\n",
      "Washington Other             593\n",
      "South Coast                  198\n",
      "New York Other               147\n",
      "Name: region_2, dtype: int64 \n",
      "\n",
      "Missing data for US:\n"
     ]
    },
    {
     "data": {
      "text/plain": [
       "Unnamed: 0         0\n",
       "country            0\n",
       "description        0\n",
       "designation    22053\n",
       "points             0\n",
       "price            258\n",
       "province           0\n",
       "region_1         137\n",
       "region_2        1445\n",
       "variety            0\n",
       "winery             0\n",
       "dtype: int64"
      ]
     },
     "execution_count": 56,
     "metadata": {},
     "output_type": "execute_result"
    }
   ],
   "source": [
    "print('US Provinces:\\n\\n', us.province.value_counts(), '\\n')\n",
    "print('US Region 1:\\n\\n', us.region_1.value_counts(), '\\n')\n",
    "print('US Region 2:\\n\\n', us.region_2.value_counts(), '\\n')\n",
    "print('Missing data for US:')\n",
    "us.isnull().sum()"
   ]
  },
  {
   "cell_type": "markdown",
   "metadata": {},
   "source": [
    "US has 50 states and the dataset contains:"
   ]
  },
  {
   "cell_type": "code",
   "execution_count": 57,
   "metadata": {},
   "outputs": [
    {
     "data": {
      "text/plain": [
       "25"
      ]
     },
     "execution_count": 57,
     "metadata": {},
     "output_type": "execute_result"
    }
   ],
   "source": [
    "us.province.unique().size"
   ]
  },
  {
   "cell_type": "markdown",
   "metadata": {},
   "source": [
    "### France"
   ]
  },
  {
   "cell_type": "code",
   "execution_count": 58,
   "metadata": {},
   "outputs": [
    {
     "name": "stdout",
     "output_type": "stream",
     "text": [
      "France Provinces:\n",
      "\n",
      " Bordeaux                         6111\n",
      "Burgundy                         4308\n",
      "Loire Valley                     1786\n",
      "Alsace                           1680\n",
      "Southwest France                 1601\n",
      "Champagne                        1370\n",
      "Rhône Valley                     1318\n",
      "Languedoc-Roussillon             1082\n",
      "Provence                         1021\n",
      "Beaujolais                        532\n",
      "France Other                      289\n",
      "Santa Barbara County-Condrieu       1\n",
      "Name: province, dtype: int64 \n",
      "\n",
      "France Region 1:\n",
      "\n",
      " Alsace                                    1574\n",
      "Champagne                                 1369\n",
      "Saint-Émilion                              836\n",
      "Côtes de Provence                          696\n",
      "Chablis                                    694\n",
      "                                          ... \n",
      "Corton Perrières                             1\n",
      "Mâcon-Uchizy                                 1\n",
      "Gard                                         1\n",
      "Côtes du Roussillon Villages Tautavel        1\n",
      "Vin de Pays de Sainte-Marie la Blanche       1\n",
      "Name: region_1, Length: 393, dtype: int64 \n",
      "\n",
      "France Region 2:\n",
      "\n",
      " Series([], Name: region_2, dtype: int64) \n",
      "\n",
      "Missing data for France:\n"
     ]
    },
    {
     "data": {
      "text/plain": [
       "Unnamed: 0         0\n",
       "country            0\n",
       "description        0\n",
       "designation     6592\n",
       "points             0\n",
       "price           6313\n",
       "province           0\n",
       "region_1          16\n",
       "region_2       21099\n",
       "variety            0\n",
       "winery             0\n",
       "dtype: int64"
      ]
     },
     "execution_count": 58,
     "metadata": {},
     "output_type": "execute_result"
    }
   ],
   "source": [
    "print('France Provinces:\\n\\n', france.province.value_counts(), '\\n')\n",
    "print('France Region 1:\\n\\n', france.region_1.value_counts(), '\\n')\n",
    "print('France Region 2:\\n\\n', france.region_2.value_counts(), '\\n')\n",
    "print('Missing data for France:')\n",
    "france.isnull().sum()"
   ]
  },
  {
   "cell_type": "markdown",
   "metadata": {},
   "source": [
    "France has 18 regions and the dataset contains:"
   ]
  },
  {
   "cell_type": "code",
   "execution_count": 59,
   "metadata": {},
   "outputs": [
    {
     "data": {
      "text/plain": [
       "12"
      ]
     },
     "execution_count": 59,
     "metadata": {},
     "output_type": "execute_result"
    }
   ],
   "source": [
    "france.province.unique().size"
   ]
  },
  {
   "cell_type": "markdown",
   "metadata": {},
   "source": [
    "### Italy"
   ]
  },
  {
   "cell_type": "code",
   "execution_count": 60,
   "metadata": {},
   "outputs": [
    {
     "name": "stdout",
     "output_type": "stream",
     "text": [
      "Italy Provinces:\n",
      "\n",
      " Tuscany               7281\n",
      "Piedmont              4093\n",
      "Veneto                3962\n",
      "Sicily & Sardinia     2545\n",
      "Northeastern Italy    1982\n",
      "Central Italy         1530\n",
      "Southern Italy        1439\n",
      "Lombardy               580\n",
      "Italy Other             56\n",
      "Northwestern Italy      10\n",
      "Name: province, dtype: int64 \n",
      "\n",
      "Italy Region 1:\n",
      "\n",
      " Toscana                   1885\n",
      "Brunello di Montalcino    1746\n",
      "Sicilia                   1701\n",
      "Barolo                    1398\n",
      "Chianti Classico          1029\n",
      "                          ... \n",
      "Ramandolo                    1\n",
      "Galluccio                    1\n",
      "Loazzolo                     1\n",
      "Valle d'Aosta                1\n",
      "Trentino Superiore           1\n",
      "Name: region_1, Length: 371, dtype: int64 \n",
      "\n",
      "Italy Region 2:\n",
      "\n",
      " Series([], Name: region_2, dtype: int64) \n",
      "\n",
      "Missing data for Italy:\n"
     ]
    },
    {
     "data": {
      "text/plain": [
       "Unnamed: 0         0\n",
       "country            0\n",
       "description        0\n",
       "designation     6588\n",
       "points             0\n",
       "price           4694\n",
       "province           0\n",
       "region_1           0\n",
       "region_2       23478\n",
       "variety            0\n",
       "winery             0\n",
       "dtype: int64"
      ]
     },
     "execution_count": 60,
     "metadata": {},
     "output_type": "execute_result"
    }
   ],
   "source": [
    "print('Italy Provinces:\\n\\n', italy.province.value_counts(), '\\n')\n",
    "print('Italy Region 1:\\n\\n', italy.region_1.value_counts(), '\\n')\n",
    "print('Italy Region 2:\\n\\n', italy.region_2.value_counts(), '\\n')\n",
    "print('Missing data for Italy:')\n",
    "italy.isnull().sum()"
   ]
  },
  {
   "cell_type": "markdown",
   "metadata": {},
   "source": [
    "Italy has 20 regions and the dataset contains:"
   ]
  },
  {
   "cell_type": "code",
   "execution_count": 61,
   "metadata": {},
   "outputs": [
    {
     "data": {
      "text/plain": [
       "10"
      ]
     },
     "execution_count": 61,
     "metadata": {},
     "output_type": "execute_result"
    }
   ],
   "source": [
    "italy.province.unique().size"
   ]
  },
  {
   "cell_type": "markdown",
   "metadata": {},
   "source": [
    "### Summary\n",
    "\n",
    "There is a bigger percentage of France's total regions being represented in the dataset compared to US and Italy. This would leed to a better visualization since we want to use a map to visualize the different regions and their wines. If we use a country with the majority of the countries regions being represented in the dataset it would lead to a more complete-looking visualization. \n",
    "\n",
    "Another pro of using France is that the regions are more professional compared to US. They do not have region 1 and 2, only 1, and the regions are usually well know as the wines inherit the regions in their names - for example champagne is only made in the region Champagne. US doesn't use as specific regions and there are so many of them that it will be hard to keep track of and summarize everything when visualizing. \n",
    "\n",
    "There is also very little data missing when looking at France and the categories that we are interested in. \n",
    "\n",
    "**Conclusion:** We will study France."
   ]
  },
  {
   "cell_type": "code",
   "execution_count": null,
   "metadata": {},
   "outputs": [],
   "source": []
  },
  {
   "cell_type": "code",
   "execution_count": null,
   "metadata": {},
   "outputs": [],
   "source": []
  }
 ],
 "metadata": {
  "kernelspec": {
   "display_name": "Python 3",
   "language": "python",
   "name": "python3"
  },
  "language_info": {
   "codemirror_mode": {
    "name": "ipython",
    "version": 3
   },
   "file_extension": ".py",
   "mimetype": "text/x-python",
   "name": "python",
   "nbconvert_exporter": "python",
   "pygments_lexer": "ipython3",
   "version": "3.7.3"
  }
 },
 "nbformat": 4,
 "nbformat_minor": 4
}
