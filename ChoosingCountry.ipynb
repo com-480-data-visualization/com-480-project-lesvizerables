{
 "cells": [
  {
   "cell_type": "markdown",
   "metadata": {},
   "source": [
    "## Which country do we want to visualize?\n",
    "\n",
    "Link to dataset: https://www.kaggle.com/zynicide/wine-reviews?fbclid=IwAR1gC2zwk_Km3CmF-C8OnCy7bd7NNfPlNGrBqnXD-lYbwFCHdoCSh0TX8ZI"
   ]
  },
  {
   "cell_type": "code",
   "execution_count": 108,
   "metadata": {},
   "outputs": [],
   "source": [
    "# Import packages that are used\n",
    "import pandas as pd"
   ]
  },
  {
   "cell_type": "code",
   "execution_count": 109,
   "metadata": {},
   "outputs": [
    {
     "data": {
      "text/html": [
       "<div>\n",
       "<style scoped>\n",
       "    .dataframe tbody tr th:only-of-type {\n",
       "        vertical-align: middle;\n",
       "    }\n",
       "\n",
       "    .dataframe tbody tr th {\n",
       "        vertical-align: top;\n",
       "    }\n",
       "\n",
       "    .dataframe thead th {\n",
       "        text-align: right;\n",
       "    }\n",
       "</style>\n",
       "<table border=\"1\" class=\"dataframe\">\n",
       "  <thead>\n",
       "    <tr style=\"text-align: right;\">\n",
       "      <th></th>\n",
       "      <th>Unnamed: 0</th>\n",
       "      <th>country</th>\n",
       "      <th>description</th>\n",
       "      <th>designation</th>\n",
       "      <th>points</th>\n",
       "      <th>price</th>\n",
       "      <th>province</th>\n",
       "      <th>region_1</th>\n",
       "      <th>region_2</th>\n",
       "      <th>variety</th>\n",
       "      <th>winery</th>\n",
       "    </tr>\n",
       "  </thead>\n",
       "  <tbody>\n",
       "    <tr>\n",
       "      <th>0</th>\n",
       "      <td>0</td>\n",
       "      <td>US</td>\n",
       "      <td>This tremendous 100% varietal wine hails from ...</td>\n",
       "      <td>Martha's Vineyard</td>\n",
       "      <td>96</td>\n",
       "      <td>235.0</td>\n",
       "      <td>California</td>\n",
       "      <td>Napa Valley</td>\n",
       "      <td>Napa</td>\n",
       "      <td>Cabernet Sauvignon</td>\n",
       "      <td>Heitz</td>\n",
       "    </tr>\n",
       "    <tr>\n",
       "      <th>1</th>\n",
       "      <td>1</td>\n",
       "      <td>Spain</td>\n",
       "      <td>Ripe aromas of fig, blackberry and cassis are ...</td>\n",
       "      <td>Carodorum Selección Especial Reserva</td>\n",
       "      <td>96</td>\n",
       "      <td>110.0</td>\n",
       "      <td>Northern Spain</td>\n",
       "      <td>Toro</td>\n",
       "      <td>NaN</td>\n",
       "      <td>Tinta de Toro</td>\n",
       "      <td>Bodega Carmen Rodríguez</td>\n",
       "    </tr>\n",
       "    <tr>\n",
       "      <th>2</th>\n",
       "      <td>2</td>\n",
       "      <td>US</td>\n",
       "      <td>Mac Watson honors the memory of a wine once ma...</td>\n",
       "      <td>Special Selected Late Harvest</td>\n",
       "      <td>96</td>\n",
       "      <td>90.0</td>\n",
       "      <td>California</td>\n",
       "      <td>Knights Valley</td>\n",
       "      <td>Sonoma</td>\n",
       "      <td>Sauvignon Blanc</td>\n",
       "      <td>Macauley</td>\n",
       "    </tr>\n",
       "  </tbody>\n",
       "</table>\n",
       "</div>"
      ],
      "text/plain": [
       "   Unnamed: 0 country                                        description  \\\n",
       "0           0      US  This tremendous 100% varietal wine hails from ...   \n",
       "1           1   Spain  Ripe aromas of fig, blackberry and cassis are ...   \n",
       "2           2      US  Mac Watson honors the memory of a wine once ma...   \n",
       "\n",
       "                            designation  points  price        province  \\\n",
       "0                     Martha's Vineyard      96  235.0      California   \n",
       "1  Carodorum Selección Especial Reserva      96  110.0  Northern Spain   \n",
       "2         Special Selected Late Harvest      96   90.0      California   \n",
       "\n",
       "         region_1 region_2             variety                   winery  \n",
       "0     Napa Valley     Napa  Cabernet Sauvignon                    Heitz  \n",
       "1            Toro      NaN       Tinta de Toro  Bodega Carmen Rodríguez  \n",
       "2  Knights Valley   Sonoma     Sauvignon Blanc                 Macauley  "
      ]
     },
     "execution_count": 109,
     "metadata": {},
     "output_type": "execute_result"
    }
   ],
   "source": [
    "wines = pd.read_csv('Data/winemag-data_first150k.csv', sep = ',')\n",
    "wines.head(3)"
   ]
  },
  {
   "cell_type": "code",
   "execution_count": 110,
   "metadata": {},
   "outputs": [
    {
     "data": {
      "text/plain": [
       "US             62397\n",
       "Italy          23478\n",
       "France         21098\n",
       "Spain           8268\n",
       "Chile           5816\n",
       "Argentina       5631\n",
       "Portugal        5322\n",
       "Australia       4957\n",
       "New Zealand     3320\n",
       "Austria         3057\n",
       "Name: country, dtype: int64"
      ]
     },
     "execution_count": 110,
     "metadata": {},
     "output_type": "execute_result"
    }
   ],
   "source": [
    "# What countries are in the dataframe?\n",
    "wines.country.value_counts()[:10]"
   ]
  },
  {
   "cell_type": "markdown",
   "metadata": {},
   "source": [
    "Countries of interest are one of the top 3. Which one do we wanna work with? Lets look at how may regions that are included for the different countries first."
   ]
  },
  {
   "cell_type": "code",
   "execution_count": 111,
   "metadata": {},
   "outputs": [],
   "source": [
    "us = wines[wines.country.str.contains('US', na=False)]\n",
    "france = wines[wines.country.str.contains('France', na=False)]\n",
    "italy = wines[wines.country.str.contains('Italy', na=False)]"
   ]
  },
  {
   "cell_type": "markdown",
   "metadata": {},
   "source": [
    "### US"
   ]
  },
  {
   "cell_type": "code",
   "execution_count": 112,
   "metadata": {},
   "outputs": [
    {
     "name": "stdout",
     "output_type": "stream",
     "text": [
      "US Provinces:\n",
      "\n",
      " California                       44508\n",
      "Washington                        9750\n",
      "Oregon                            4589\n",
      "New York                          2428\n",
      "Virginia                           515\n",
      "Idaho                              136\n",
      "New Mexico                          95\n",
      "Missouri                            60\n",
      "Pennsylvania                        50\n",
      "Texas                               41\n",
      "Arizona                             39\n",
      "Ohio                                34\n",
      "Colorado                            30\n",
      "America                             27\n",
      "Michigan                            25\n",
      "New Jersey                          24\n",
      "North Carolina                      20\n",
      "Massachusetts                       10\n",
      "Kentucky                             4\n",
      "Iowa                                 4\n",
      "Washington-Oregon                    3\n",
      "Connecticut                          2\n",
      "Vermont                              2\n",
      "Nevada                               1\n",
      "Santa Barbara County-Condrieu        1\n",
      "Name: province, dtype: int64 \n",
      "\n",
      "US Region 1:\n",
      "\n",
      " Napa Valley                                  6209\n",
      "Columbia Valley (WA)                         4975\n",
      "Russian River Valley                         3571\n",
      "California                                   3462\n",
      "Paso Robles                                  3053\n",
      "                                             ... \n",
      "Santa Clara County                              1\n",
      "Napa-Sonoma-Monterey                            1\n",
      "Sonoma County-Lake County                       1\n",
      "Napa County-Sonoma County-Lake County           1\n",
      "Monterey County-Napa County-Sonoma County       1\n",
      "Name: region_1, Length: 265, dtype: int64 \n",
      "\n",
      "US Region 2:\n",
      "\n",
      " Central Coast              13057\n",
      "Sonoma                     11258\n",
      "Columbia Valley             9157\n",
      "Napa                        8801\n",
      "California Other            3516\n",
      "Willamette Valley           3181\n",
      "Mendocino/Lake Counties     2389\n",
      "Sierra Foothills            1660\n",
      "Napa-Sonoma                 1645\n",
      "Finger Lakes                1510\n",
      "Central Valley              1115\n",
      "Long Island                  771\n",
      "Southern Oregon              662\n",
      "Oregon Other                 661\n",
      "North Coast                  632\n",
      "Washington Other             593\n",
      "South Coast                  198\n",
      "New York Other               147\n",
      "Name: region_2, dtype: int64 \n",
      "\n",
      "Missing data for US:\n"
     ]
    },
    {
     "data": {
      "text/plain": [
       "Unnamed: 0         0\n",
       "country            0\n",
       "description        0\n",
       "designation    22053\n",
       "points             0\n",
       "price            258\n",
       "province           0\n",
       "region_1         137\n",
       "region_2        1445\n",
       "variety            0\n",
       "winery             0\n",
       "dtype: int64"
      ]
     },
     "execution_count": 112,
     "metadata": {},
     "output_type": "execute_result"
    }
   ],
   "source": [
    "print('US Provinces:\\n\\n', us.province.value_counts(), '\\n')\n",
    "print('US Region 1:\\n\\n', us.region_1.value_counts(), '\\n')\n",
    "print('US Region 2:\\n\\n', us.region_2.value_counts(), '\\n')\n",
    "print('Missing data for US:')\n",
    "us.isnull().sum()"
   ]
  },
  {
   "cell_type": "markdown",
   "metadata": {},
   "source": [
    "US has 50 states and the dataset contains:"
   ]
  },
  {
   "cell_type": "code",
   "execution_count": 113,
   "metadata": {},
   "outputs": [
    {
     "data": {
      "text/plain": [
       "25"
      ]
     },
     "execution_count": 113,
     "metadata": {},
     "output_type": "execute_result"
    }
   ],
   "source": [
    "us.province.unique().size"
   ]
  },
  {
   "cell_type": "markdown",
   "metadata": {},
   "source": [
    "### France"
   ]
  },
  {
   "cell_type": "code",
   "execution_count": 114,
   "metadata": {},
   "outputs": [
    {
     "name": "stdout",
     "output_type": "stream",
     "text": [
      "France Provinces:\n",
      "\n",
      " Bordeaux                         6111\n",
      "Burgundy                         4308\n",
      "Loire Valley                     1786\n",
      "Alsace                           1680\n",
      "Southwest France                 1601\n",
      "Champagne                        1370\n",
      "Rhône Valley                     1318\n",
      "Languedoc-Roussillon             1082\n",
      "Provence                         1021\n",
      "Beaujolais                        532\n",
      "France Other                      289\n",
      "Santa Barbara County-Condrieu       1\n",
      "Name: province, dtype: int64 \n",
      "\n",
      "France Region 1:\n",
      "\n",
      " Alsace                                    1574\n",
      "Champagne                                 1369\n",
      "Saint-Émilion                              836\n",
      "Côtes de Provence                          696\n",
      "Chablis                                    694\n",
      "                                          ... \n",
      "Vin de Pays de Sainte-Marie la Blanche       1\n",
      "Mâcon-Uchizy                                 1\n",
      "Clairette de Die                             1\n",
      "Rasteau                                      1\n",
      "Vin de Pays des Coteaux de L'Ardeche         1\n",
      "Name: region_1, Length: 393, dtype: int64 \n",
      "\n",
      "France Region 2:\n",
      "\n",
      " Series([], Name: region_2, dtype: int64) \n",
      "\n",
      "Missing data for France:\n"
     ]
    },
    {
     "data": {
      "text/plain": [
       "Unnamed: 0         0\n",
       "country            0\n",
       "description        0\n",
       "designation     6592\n",
       "points             0\n",
       "price           6313\n",
       "province           0\n",
       "region_1          16\n",
       "region_2       21099\n",
       "variety            0\n",
       "winery             0\n",
       "dtype: int64"
      ]
     },
     "execution_count": 114,
     "metadata": {},
     "output_type": "execute_result"
    }
   ],
   "source": [
    "print('France Provinces:\\n\\n', france.province.value_counts(), '\\n')\n",
    "print('France Region 1:\\n\\n', france.region_1.value_counts(), '\\n')\n",
    "print('France Region 2:\\n\\n', france.region_2.value_counts(), '\\n')\n",
    "print('Missing data for France:')\n",
    "france.isnull().sum()"
   ]
  },
  {
   "cell_type": "markdown",
   "metadata": {},
   "source": [
    "France has 18 regions and the dataset contains:"
   ]
  },
  {
   "cell_type": "code",
   "execution_count": 115,
   "metadata": {},
   "outputs": [
    {
     "data": {
      "text/plain": [
       "12"
      ]
     },
     "execution_count": 115,
     "metadata": {},
     "output_type": "execute_result"
    }
   ],
   "source": [
    "france.province.unique().size"
   ]
  },
  {
   "cell_type": "markdown",
   "metadata": {},
   "source": [
    "### Italy"
   ]
  },
  {
   "cell_type": "code",
   "execution_count": 116,
   "metadata": {},
   "outputs": [
    {
     "name": "stdout",
     "output_type": "stream",
     "text": [
      "Italy Provinces:\n",
      "\n",
      " Tuscany               7281\n",
      "Piedmont              4093\n",
      "Veneto                3962\n",
      "Sicily & Sardinia     2545\n",
      "Northeastern Italy    1982\n",
      "Central Italy         1530\n",
      "Southern Italy        1439\n",
      "Lombardy               580\n",
      "Italy Other             56\n",
      "Northwestern Italy      10\n",
      "Name: province, dtype: int64 \n",
      "\n",
      "Italy Region 1:\n",
      "\n",
      " Toscana                                  1885\n",
      "Brunello di Montalcino                   1746\n",
      "Sicilia                                  1701\n",
      "Barolo                                   1398\n",
      "Chianti Classico                         1029\n",
      "                                         ... \n",
      "Mitterberg                                  1\n",
      "Recioto della Valpolicella Valpantena       1\n",
      "Rosso del Salento                           1\n",
      "Paestum                                     1\n",
      "Alta Valle della Greve                      1\n",
      "Name: region_1, Length: 371, dtype: int64 \n",
      "\n",
      "Italy Region 2:\n",
      "\n",
      " Series([], Name: region_2, dtype: int64) \n",
      "\n",
      "Missing data for Italy:\n"
     ]
    },
    {
     "data": {
      "text/plain": [
       "Unnamed: 0         0\n",
       "country            0\n",
       "description        0\n",
       "designation     6588\n",
       "points             0\n",
       "price           4694\n",
       "province           0\n",
       "region_1           0\n",
       "region_2       23478\n",
       "variety            0\n",
       "winery             0\n",
       "dtype: int64"
      ]
     },
     "execution_count": 116,
     "metadata": {},
     "output_type": "execute_result"
    }
   ],
   "source": [
    "print('Italy Provinces:\\n\\n', italy.province.value_counts(), '\\n')\n",
    "print('Italy Region 1:\\n\\n', italy.region_1.value_counts(), '\\n')\n",
    "print('Italy Region 2:\\n\\n', italy.region_2.value_counts(), '\\n')\n",
    "print('Missing data for Italy:')\n",
    "italy.isnull().sum()"
   ]
  },
  {
   "cell_type": "markdown",
   "metadata": {},
   "source": [
    "Italy has 20 regions and the dataset contains:"
   ]
  },
  {
   "cell_type": "code",
   "execution_count": 117,
   "metadata": {},
   "outputs": [
    {
     "data": {
      "text/plain": [
       "10"
      ]
     },
     "execution_count": 117,
     "metadata": {},
     "output_type": "execute_result"
    }
   ],
   "source": [
    "italy.province.unique().size"
   ]
  },
  {
   "cell_type": "markdown",
   "metadata": {},
   "source": [
    "### Summary\n",
    "\n",
    "There is a bigger percentage of France's total regions being represented in the dataset compared to US and Italy. This would leed to a better visualization since we want to use a map to visualize the different regions and their wines. If we use a country with the majority of the countries regions being represented in the dataset it would lead to a more complete-looking visualization. \n",
    "\n",
    "Another pro of using France is that the regions are more professional compared to US. They do not have region 1 and 2, only 1, and the regions are usually well know as the wines inherit the regions in their names - for example champagne is only made in the region Champagne. US doesn't use as specific regions and there are so many of them that it will be hard to keep track of and summarize everything when visualizing. \n",
    "\n",
    "There is also very little data missing when looking at France and the categories that we are interested in. \n",
    "\n",
    "**Conclusion:** We will study France."
   ]
  },
  {
   "cell_type": "markdown",
   "metadata": {},
   "source": [
    "## What should we focus on in the data? "
   ]
  },
  {
   "cell_type": "code",
   "execution_count": 196,
   "metadata": {},
   "outputs": [
    {
     "data": {
      "text/html": [
       "<div>\n",
       "<style scoped>\n",
       "    .dataframe tbody tr th:only-of-type {\n",
       "        vertical-align: middle;\n",
       "    }\n",
       "\n",
       "    .dataframe tbody tr th {\n",
       "        vertical-align: top;\n",
       "    }\n",
       "\n",
       "    .dataframe thead th {\n",
       "        text-align: right;\n",
       "    }\n",
       "</style>\n",
       "<table border=\"1\" class=\"dataframe\">\n",
       "  <thead>\n",
       "    <tr style=\"text-align: right;\">\n",
       "      <th></th>\n",
       "      <th>country</th>\n",
       "      <th>description</th>\n",
       "      <th>designation</th>\n",
       "      <th>points</th>\n",
       "      <th>price</th>\n",
       "      <th>province</th>\n",
       "      <th>region_1</th>\n",
       "      <th>variety</th>\n",
       "      <th>winery</th>\n",
       "    </tr>\n",
       "  </thead>\n",
       "  <tbody>\n",
       "    <tr>\n",
       "      <th>0</th>\n",
       "      <td>France</td>\n",
       "      <td>This is the top wine from La Bégude, named aft...</td>\n",
       "      <td>La Brûlade</td>\n",
       "      <td>95</td>\n",
       "      <td>66.0</td>\n",
       "      <td>Provence</td>\n",
       "      <td>Bandol</td>\n",
       "      <td>Provence red blend</td>\n",
       "      <td>Domaine de la Bégude</td>\n",
       "    </tr>\n",
       "    <tr>\n",
       "      <th>1</th>\n",
       "      <td>France</td>\n",
       "      <td>This wine is in peak condition. The tannins an...</td>\n",
       "      <td>Château Montus Prestige</td>\n",
       "      <td>95</td>\n",
       "      <td>90.0</td>\n",
       "      <td>Southwest France</td>\n",
       "      <td>Madiran</td>\n",
       "      <td>Tannat</td>\n",
       "      <td>Vignobles Brumont</td>\n",
       "    </tr>\n",
       "    <tr>\n",
       "      <th>2</th>\n",
       "      <td>France</td>\n",
       "      <td>Coming from a seven-acre vineyard named after ...</td>\n",
       "      <td>Le Pigeonnier</td>\n",
       "      <td>95</td>\n",
       "      <td>290.0</td>\n",
       "      <td>Southwest France</td>\n",
       "      <td>Cahors</td>\n",
       "      <td>Malbec</td>\n",
       "      <td>Château Lagrézette</td>\n",
       "    </tr>\n",
       "    <tr>\n",
       "      <th>3</th>\n",
       "      <td>France</td>\n",
       "      <td>Pale in color, this is nutty in character, wit...</td>\n",
       "      <td>Nonpareil Trésor Rosé Brut</td>\n",
       "      <td>90</td>\n",
       "      <td>22.0</td>\n",
       "      <td>France Other</td>\n",
       "      <td>Vin Mousseux</td>\n",
       "      <td>Sparkling Blend</td>\n",
       "      <td>Bouvet-Ladubay</td>\n",
       "    </tr>\n",
       "    <tr>\n",
       "      <th>4</th>\n",
       "      <td>France</td>\n",
       "      <td>Gingery spice notes accent fresh pear and melo...</td>\n",
       "      <td>NaN</td>\n",
       "      <td>90</td>\n",
       "      <td>60.0</td>\n",
       "      <td>Rhône Valley</td>\n",
       "      <td>Châteauneuf-du-Pape</td>\n",
       "      <td>Rhône-style White Blend</td>\n",
       "      <td>Clos de L'Oratoire des Papes</td>\n",
       "    </tr>\n",
       "    <tr>\n",
       "      <th>...</th>\n",
       "      <td>...</td>\n",
       "      <td>...</td>\n",
       "      <td>...</td>\n",
       "      <td>...</td>\n",
       "      <td>...</td>\n",
       "      <td>...</td>\n",
       "      <td>...</td>\n",
       "      <td>...</td>\n",
       "      <td>...</td>\n",
       "    </tr>\n",
       "    <tr>\n",
       "      <th>21094</th>\n",
       "      <td>France</td>\n",
       "      <td>Shows some older notes: a bouquet of toasted w...</td>\n",
       "      <td>Blanc de Blancs Brut Mosaïque</td>\n",
       "      <td>91</td>\n",
       "      <td>38.0</td>\n",
       "      <td>Champagne</td>\n",
       "      <td>Champagne</td>\n",
       "      <td>Champagne Blend</td>\n",
       "      <td>Jacquart</td>\n",
       "    </tr>\n",
       "    <tr>\n",
       "      <th>21095</th>\n",
       "      <td>France</td>\n",
       "      <td>Rich and toasty, with tiny bubbles. The bouque...</td>\n",
       "      <td>Demi-Sec</td>\n",
       "      <td>91</td>\n",
       "      <td>30.0</td>\n",
       "      <td>Champagne</td>\n",
       "      <td>Champagne</td>\n",
       "      <td>Champagne Blend</td>\n",
       "      <td>Jacquart</td>\n",
       "    </tr>\n",
       "    <tr>\n",
       "      <th>21096</th>\n",
       "      <td>France</td>\n",
       "      <td>Really fine for a low-acid vintage, there's an...</td>\n",
       "      <td>Diamant Bleu</td>\n",
       "      <td>91</td>\n",
       "      <td>70.0</td>\n",
       "      <td>Champagne</td>\n",
       "      <td>Champagne</td>\n",
       "      <td>Champagne Blend</td>\n",
       "      <td>Heidsieck &amp; Co Monopole</td>\n",
       "    </tr>\n",
       "    <tr>\n",
       "      <th>21097</th>\n",
       "      <td>France</td>\n",
       "      <td>Offers an intriguing nose with ginger, lime an...</td>\n",
       "      <td>Cuvée Prestige</td>\n",
       "      <td>91</td>\n",
       "      <td>27.0</td>\n",
       "      <td>Champagne</td>\n",
       "      <td>Champagne</td>\n",
       "      <td>Champagne Blend</td>\n",
       "      <td>H.Germain</td>\n",
       "    </tr>\n",
       "    <tr>\n",
       "      <th>21098</th>\n",
       "      <td>France</td>\n",
       "      <td>A perfect salmon shade, with scents of peaches...</td>\n",
       "      <td>Grand Brut Rosé</td>\n",
       "      <td>90</td>\n",
       "      <td>52.0</td>\n",
       "      <td>Champagne</td>\n",
       "      <td>Champagne</td>\n",
       "      <td>Champagne Blend</td>\n",
       "      <td>Gosset</td>\n",
       "    </tr>\n",
       "  </tbody>\n",
       "</table>\n",
       "<p>21099 rows × 9 columns</p>\n",
       "</div>"
      ],
      "text/plain": [
       "      country                                        description  \\\n",
       "0      France  This is the top wine from La Bégude, named aft...   \n",
       "1      France  This wine is in peak condition. The tannins an...   \n",
       "2      France  Coming from a seven-acre vineyard named after ...   \n",
       "3      France  Pale in color, this is nutty in character, wit...   \n",
       "4      France  Gingery spice notes accent fresh pear and melo...   \n",
       "...       ...                                                ...   \n",
       "21094  France  Shows some older notes: a bouquet of toasted w...   \n",
       "21095  France  Rich and toasty, with tiny bubbles. The bouque...   \n",
       "21096  France  Really fine for a low-acid vintage, there's an...   \n",
       "21097  France  Offers an intriguing nose with ginger, lime an...   \n",
       "21098  France  A perfect salmon shade, with scents of peaches...   \n",
       "\n",
       "                         designation  points  price          province  \\\n",
       "0                         La Brûlade      95   66.0          Provence   \n",
       "1            Château Montus Prestige      95   90.0  Southwest France   \n",
       "2                      Le Pigeonnier      95  290.0  Southwest France   \n",
       "3         Nonpareil Trésor Rosé Brut      90   22.0      France Other   \n",
       "4                                NaN      90   60.0      Rhône Valley   \n",
       "...                              ...     ...    ...               ...   \n",
       "21094  Blanc de Blancs Brut Mosaïque      91   38.0         Champagne   \n",
       "21095                       Demi-Sec      91   30.0         Champagne   \n",
       "21096                   Diamant Bleu      91   70.0         Champagne   \n",
       "21097                 Cuvée Prestige      91   27.0         Champagne   \n",
       "21098                Grand Brut Rosé      90   52.0         Champagne   \n",
       "\n",
       "                  region_1                  variety  \\\n",
       "0                   Bandol       Provence red blend   \n",
       "1                  Madiran                   Tannat   \n",
       "2                   Cahors                   Malbec   \n",
       "3             Vin Mousseux          Sparkling Blend   \n",
       "4      Châteauneuf-du-Pape  Rhône-style White Blend   \n",
       "...                    ...                      ...   \n",
       "21094            Champagne          Champagne Blend   \n",
       "21095            Champagne          Champagne Blend   \n",
       "21096            Champagne          Champagne Blend   \n",
       "21097            Champagne          Champagne Blend   \n",
       "21098            Champagne          Champagne Blend   \n",
       "\n",
       "                             winery  \n",
       "0              Domaine de la Bégude  \n",
       "1                 Vignobles Brumont  \n",
       "2                Château Lagrézette  \n",
       "3                    Bouvet-Ladubay  \n",
       "4      Clos de L'Oratoire des Papes  \n",
       "...                             ...  \n",
       "21094                      Jacquart  \n",
       "21095                      Jacquart  \n",
       "21096       Heidsieck & Co Monopole  \n",
       "21097                     H.Germain  \n",
       "21098                        Gosset  \n",
       "\n",
       "[21099 rows x 9 columns]"
      ]
     },
     "execution_count": 196,
     "metadata": {},
     "output_type": "execute_result"
    }
   ],
   "source": [
    "# take a look at the other data in the dataset\n",
    "france.head()\n",
    "france.reset_index(drop = True, inplace=True)\n",
    "france"
   ]
  },
  {
   "cell_type": "markdown",
   "metadata": {},
   "source": [
    "From previous we saw that the missing values are:\n",
    "\n",
    "- country:            0\n",
    "- description:        0\n",
    "- designation:     6592\n",
    "- points:             0\n",
    "- price:           6313\n",
    "- province:           0\n",
    "- region_1:          16\n",
    "- region_2:       21099\n",
    "- variety:            0\n",
    "- winery:             0\n",
    "\n",
    "\n",
    "Since there are 21099 rows in the dataset, it can be smart to stay clear of visualizing data about designation and price as about 30% of the data is missing. \n",
    "\n",
    "Since there are no values given for region_2, we remove this column  (also remove Unnamed:0, do not know why this sometimes pops up..) "
   ]
  },
  {
   "cell_type": "code",
   "execution_count": 120,
   "metadata": {},
   "outputs": [
    {
     "data": {
      "text/html": [
       "<div>\n",
       "<style scoped>\n",
       "    .dataframe tbody tr th:only-of-type {\n",
       "        vertical-align: middle;\n",
       "    }\n",
       "\n",
       "    .dataframe tbody tr th {\n",
       "        vertical-align: top;\n",
       "    }\n",
       "\n",
       "    .dataframe thead th {\n",
       "        text-align: right;\n",
       "    }\n",
       "</style>\n",
       "<table border=\"1\" class=\"dataframe\">\n",
       "  <thead>\n",
       "    <tr style=\"text-align: right;\">\n",
       "      <th></th>\n",
       "      <th>country</th>\n",
       "      <th>description</th>\n",
       "      <th>designation</th>\n",
       "      <th>points</th>\n",
       "      <th>price</th>\n",
       "      <th>province</th>\n",
       "      <th>region_1</th>\n",
       "      <th>variety</th>\n",
       "      <th>winery</th>\n",
       "    </tr>\n",
       "  </thead>\n",
       "  <tbody>\n",
       "    <tr>\n",
       "      <th>0</th>\n",
       "      <td>France</td>\n",
       "      <td>This is the top wine from La Bégude, named aft...</td>\n",
       "      <td>La Brûlade</td>\n",
       "      <td>95</td>\n",
       "      <td>66.0</td>\n",
       "      <td>Provence</td>\n",
       "      <td>Bandol</td>\n",
       "      <td>Provence red blend</td>\n",
       "      <td>Domaine de la Bégude</td>\n",
       "    </tr>\n",
       "    <tr>\n",
       "      <th>1</th>\n",
       "      <td>France</td>\n",
       "      <td>This wine is in peak condition. The tannins an...</td>\n",
       "      <td>Château Montus Prestige</td>\n",
       "      <td>95</td>\n",
       "      <td>90.0</td>\n",
       "      <td>Southwest France</td>\n",
       "      <td>Madiran</td>\n",
       "      <td>Tannat</td>\n",
       "      <td>Vignobles Brumont</td>\n",
       "    </tr>\n",
       "    <tr>\n",
       "      <th>2</th>\n",
       "      <td>France</td>\n",
       "      <td>Coming from a seven-acre vineyard named after ...</td>\n",
       "      <td>Le Pigeonnier</td>\n",
       "      <td>95</td>\n",
       "      <td>290.0</td>\n",
       "      <td>Southwest France</td>\n",
       "      <td>Cahors</td>\n",
       "      <td>Malbec</td>\n",
       "      <td>Château Lagrézette</td>\n",
       "    </tr>\n",
       "    <tr>\n",
       "      <th>3</th>\n",
       "      <td>France</td>\n",
       "      <td>Pale in color, this is nutty in character, wit...</td>\n",
       "      <td>Nonpareil Trésor Rosé Brut</td>\n",
       "      <td>90</td>\n",
       "      <td>22.0</td>\n",
       "      <td>France Other</td>\n",
       "      <td>Vin Mousseux</td>\n",
       "      <td>Sparkling Blend</td>\n",
       "      <td>Bouvet-Ladubay</td>\n",
       "    </tr>\n",
       "    <tr>\n",
       "      <th>4</th>\n",
       "      <td>France</td>\n",
       "      <td>Gingery spice notes accent fresh pear and melo...</td>\n",
       "      <td>NaN</td>\n",
       "      <td>90</td>\n",
       "      <td>60.0</td>\n",
       "      <td>Rhône Valley</td>\n",
       "      <td>Châteauneuf-du-Pape</td>\n",
       "      <td>Rhône-style White Blend</td>\n",
       "      <td>Clos de L'Oratoire des Papes</td>\n",
       "    </tr>\n",
       "  </tbody>\n",
       "</table>\n",
       "</div>"
      ],
      "text/plain": [
       "  country                                        description  \\\n",
       "0  France  This is the top wine from La Bégude, named aft...   \n",
       "1  France  This wine is in peak condition. The tannins an...   \n",
       "2  France  Coming from a seven-acre vineyard named after ...   \n",
       "3  France  Pale in color, this is nutty in character, wit...   \n",
       "4  France  Gingery spice notes accent fresh pear and melo...   \n",
       "\n",
       "                  designation  points  price          province  \\\n",
       "0                  La Brûlade      95   66.0          Provence   \n",
       "1     Château Montus Prestige      95   90.0  Southwest France   \n",
       "2               Le Pigeonnier      95  290.0  Southwest France   \n",
       "3  Nonpareil Trésor Rosé Brut      90   22.0      France Other   \n",
       "4                         NaN      90   60.0      Rhône Valley   \n",
       "\n",
       "              region_1                  variety                        winery  \n",
       "0               Bandol       Provence red blend          Domaine de la Bégude  \n",
       "1              Madiran                   Tannat             Vignobles Brumont  \n",
       "2               Cahors                   Malbec            Château Lagrézette  \n",
       "3         Vin Mousseux          Sparkling Blend                Bouvet-Ladubay  \n",
       "4  Châteauneuf-du-Pape  Rhône-style White Blend  Clos de L'Oratoire des Papes  "
      ]
     },
     "execution_count": 120,
     "metadata": {},
     "output_type": "execute_result"
    }
   ],
   "source": [
    "france = france.drop(['region_2', 'Unnamed: 0'], axis = 1)\n",
    "france.head()"
   ]
  },
  {
   "cell_type": "markdown",
   "metadata": {},
   "source": [
    "### Variety \n",
    "Exploration of the different varities"
   ]
  },
  {
   "cell_type": "code",
   "execution_count": 182,
   "metadata": {},
   "outputs": [
    {
     "data": {
      "text/plain": [
       "Chardonnay                    2892\n",
       "Pinot Noir                    2073\n",
       "Rosé                          1342\n",
       "Bordeaux-style White Blend    1210\n",
       "Champagne Blend               1104\n",
       "Sauvignon Blanc                930\n",
       "Rhône-style Red Blend          866\n",
       "Gamay                          535\n",
       "Malbec                         519\n",
       "Riesling                       501\n",
       "Syrah                          458\n",
       "Chenin Blanc                   413\n",
       "Gewürztraminer                 327\n",
       "Red Blend                      305\n",
       "Pinot Gris                     276\n",
       "White Blend                    265\n",
       "Sparkling Blend                223\n",
       "Pinot Blanc                    214\n",
       "Cabernet Franc                 197\n",
       "Rhône-style White Blend        178\n",
       "Merlot                         106\n",
       "Melon                           97\n",
       "Viognier                        83\n",
       "Malbec-Merlot                   80\n",
       "Marsanne                        74\n",
       "Tannat                          58\n",
       "Alsace white blend              52\n",
       "Cabernet Sauvignon              50\n",
       "Muscat                          47\n",
       "Tannat-Cabernet                 36\n",
       "Petit Manseng                   36\n",
       "Sylvaner                        34\n",
       "Chenin Blanc-Chardonnay         31\n",
       "Name: variety, dtype: int64"
      ]
     },
     "execution_count": 182,
     "metadata": {},
     "output_type": "execute_result"
    }
   ],
   "source": [
    "varieties = france.variety.value_counts()[1:34]\n",
    "varieties"
   ]
  },
  {
   "cell_type": "markdown",
   "metadata": {},
   "source": [
    "There are 131 different varieties in total. Might be smart to focus on the ones that occur more in the dataset, and 131 is also a lot to visualize. Might be a good idea to have a treshhold of minimum 30 occurences. That will include 34 varieties.  "
   ]
  },
  {
   "cell_type": "code",
   "execution_count": 159,
   "metadata": {},
   "outputs": [],
   "source": [
    "# create dataset with only these varietes. \n",
    "france_lim = france.loc[france.variety.isin(varieties.index)]"
   ]
  },
  {
   "cell_type": "code",
   "execution_count": 202,
   "metadata": {},
   "outputs": [
    {
     "data": {
      "text/html": [
       "<div>\n",
       "<style scoped>\n",
       "    .dataframe tbody tr th:only-of-type {\n",
       "        vertical-align: middle;\n",
       "    }\n",
       "\n",
       "    .dataframe tbody tr th {\n",
       "        vertical-align: top;\n",
       "    }\n",
       "\n",
       "    .dataframe thead th {\n",
       "        text-align: right;\n",
       "    }\n",
       "</style>\n",
       "<table border=\"1\" class=\"dataframe\">\n",
       "  <thead>\n",
       "    <tr style=\"text-align: right;\">\n",
       "      <th></th>\n",
       "      <th>country</th>\n",
       "      <th>description</th>\n",
       "      <th>designation</th>\n",
       "      <th>points</th>\n",
       "      <th>price</th>\n",
       "      <th>province</th>\n",
       "      <th>region_1</th>\n",
       "      <th>variety</th>\n",
       "      <th>winery</th>\n",
       "    </tr>\n",
       "  </thead>\n",
       "  <tbody>\n",
       "    <tr>\n",
       "      <th>0</th>\n",
       "      <td>France</td>\n",
       "      <td>Coming from a seven-acre vineyard named after ...</td>\n",
       "      <td>Le Pigeonnier</td>\n",
       "      <td>95</td>\n",
       "      <td>290.0</td>\n",
       "      <td>Southwest France</td>\n",
       "      <td>Cahors</td>\n",
       "      <td>Malbec</td>\n",
       "      <td>Château Lagrézette</td>\n",
       "    </tr>\n",
       "    <tr>\n",
       "      <th>1</th>\n",
       "      <td>France</td>\n",
       "      <td>Delicious while also young and textured, this ...</td>\n",
       "      <td>Le Pavé</td>\n",
       "      <td>90</td>\n",
       "      <td>NaN</td>\n",
       "      <td>Loire Valley</td>\n",
       "      <td>Sancerre</td>\n",
       "      <td>Sauvignon Blanc</td>\n",
       "      <td>Domaine Vacheron</td>\n",
       "    </tr>\n",
       "    <tr>\n",
       "      <th>2</th>\n",
       "      <td>France</td>\n",
       "      <td>The steely character of a young Chablis is ver...</td>\n",
       "      <td>Fourchaume Premier Cru</td>\n",
       "      <td>91</td>\n",
       "      <td>38.0</td>\n",
       "      <td>Burgundy</td>\n",
       "      <td>Chablis</td>\n",
       "      <td>Chardonnay</td>\n",
       "      <td>Louis Max</td>\n",
       "    </tr>\n",
       "    <tr>\n",
       "      <th>3</th>\n",
       "      <td>France</td>\n",
       "      <td>Lightly structured, this is a balanced, ripe w...</td>\n",
       "      <td>NaN</td>\n",
       "      <td>90</td>\n",
       "      <td>15.0</td>\n",
       "      <td>Bordeaux</td>\n",
       "      <td>Bordeaux Rosé</td>\n",
       "      <td>Rosé</td>\n",
       "      <td>Château Suau</td>\n",
       "    </tr>\n",
       "    <tr>\n",
       "      <th>4</th>\n",
       "      <td>France</td>\n",
       "      <td>Beautifully balanced, this conveys both rich f...</td>\n",
       "      <td>Clos Häuserer Wintzenheim</td>\n",
       "      <td>93</td>\n",
       "      <td>65.0</td>\n",
       "      <td>Alsace</td>\n",
       "      <td>Alsace</td>\n",
       "      <td>Riesling</td>\n",
       "      <td>Domaine Zind-Humbrecht</td>\n",
       "    </tr>\n",
       "  </tbody>\n",
       "</table>\n",
       "</div>"
      ],
      "text/plain": [
       "  country                                        description  \\\n",
       "0  France  Coming from a seven-acre vineyard named after ...   \n",
       "1  France  Delicious while also young and textured, this ...   \n",
       "2  France  The steely character of a young Chablis is ver...   \n",
       "3  France  Lightly structured, this is a balanced, ripe w...   \n",
       "4  France  Beautifully balanced, this conveys both rich f...   \n",
       "\n",
       "                 designation  points  price          province       region_1  \\\n",
       "0              Le Pigeonnier      95  290.0  Southwest France         Cahors   \n",
       "1                    Le Pavé      90    NaN      Loire Valley       Sancerre   \n",
       "2     Fourchaume Premier Cru      91   38.0          Burgundy        Chablis   \n",
       "3                        NaN      90   15.0          Bordeaux  Bordeaux Rosé   \n",
       "4  Clos Häuserer Wintzenheim      93   65.0            Alsace         Alsace   \n",
       "\n",
       "           variety                  winery  \n",
       "0           Malbec      Château Lagrézette  \n",
       "1  Sauvignon Blanc        Domaine Vacheron  \n",
       "2       Chardonnay               Louis Max  \n",
       "3             Rosé            Château Suau  \n",
       "4         Riesling  Domaine Zind-Humbrecht  "
      ]
     },
     "execution_count": 202,
     "metadata": {},
     "output_type": "execute_result"
    }
   ],
   "source": [
    "france_lim.head()"
   ]
  },
  {
   "cell_type": "markdown",
   "metadata": {},
   "source": [
    "### Winery\n",
    "Exploration of the different wineries"
   ]
  },
  {
   "cell_type": "code",
   "execution_count": 178,
   "metadata": {},
   "outputs": [
    {
     "data": {
      "text/plain": [
       "Bouchard Père & Fils          203\n",
       "Joseph Drouhin                189\n",
       "Georges Duboeuf               188\n",
       "Albert Bichot                 167\n",
       "Louis Latour                  154\n",
       "                             ... \n",
       "Morey-Blanc                    31\n",
       "Domaine Jayer-Gilles           30\n",
       "Domaine D'en Ségur             30\n",
       "Laurent-Perrier                30\n",
       "Château Smith Haut Lafitte     30\n",
       "Name: winery, Length: 118, dtype: int64"
      ]
     },
     "execution_count": 178,
     "metadata": {},
     "output_type": "execute_result"
    }
   ],
   "source": [
    "wineries = france.winery.value_counts()[0:118]\n",
    "wineries"
   ]
  },
  {
   "cell_type": "code",
   "execution_count": 190,
   "metadata": {},
   "outputs": [
    {
     "data": {
      "text/html": [
       "<div>\n",
       "<style scoped>\n",
       "    .dataframe tbody tr th:only-of-type {\n",
       "        vertical-align: middle;\n",
       "    }\n",
       "\n",
       "    .dataframe tbody tr th {\n",
       "        vertical-align: top;\n",
       "    }\n",
       "\n",
       "    .dataframe thead th {\n",
       "        text-align: right;\n",
       "    }\n",
       "</style>\n",
       "<table border=\"1\" class=\"dataframe\">\n",
       "  <thead>\n",
       "    <tr style=\"text-align: right;\">\n",
       "      <th></th>\n",
       "      <th>country</th>\n",
       "      <th>description</th>\n",
       "      <th>designation</th>\n",
       "      <th>points</th>\n",
       "      <th>price</th>\n",
       "      <th>province</th>\n",
       "      <th>region_1</th>\n",
       "      <th>variety</th>\n",
       "      <th>winery</th>\n",
       "    </tr>\n",
       "  </thead>\n",
       "  <tbody>\n",
       "    <tr>\n",
       "      <th>0</th>\n",
       "      <td>France</td>\n",
       "      <td>Coming from a seven-acre vineyard named after ...</td>\n",
       "      <td>Le Pigeonnier</td>\n",
       "      <td>95</td>\n",
       "      <td>290.0</td>\n",
       "      <td>Southwest France</td>\n",
       "      <td>Cahors</td>\n",
       "      <td>Malbec</td>\n",
       "      <td>Château Lagrézette</td>\n",
       "    </tr>\n",
       "    <tr>\n",
       "      <th>1</th>\n",
       "      <td>France</td>\n",
       "      <td>Delicious while also young and textured, this ...</td>\n",
       "      <td>Le Pavé</td>\n",
       "      <td>90</td>\n",
       "      <td>NaN</td>\n",
       "      <td>Loire Valley</td>\n",
       "      <td>Sancerre</td>\n",
       "      <td>Sauvignon Blanc</td>\n",
       "      <td>Domaine Vacheron</td>\n",
       "    </tr>\n",
       "    <tr>\n",
       "      <th>2</th>\n",
       "      <td>France</td>\n",
       "      <td>The steely character of a young Chablis is ver...</td>\n",
       "      <td>Fourchaume Premier Cru</td>\n",
       "      <td>91</td>\n",
       "      <td>38.0</td>\n",
       "      <td>Burgundy</td>\n",
       "      <td>Chablis</td>\n",
       "      <td>Chardonnay</td>\n",
       "      <td>Louis Max</td>\n",
       "    </tr>\n",
       "    <tr>\n",
       "      <th>3</th>\n",
       "      <td>France</td>\n",
       "      <td>Lightly structured, this is a balanced, ripe w...</td>\n",
       "      <td>NaN</td>\n",
       "      <td>90</td>\n",
       "      <td>15.0</td>\n",
       "      <td>Bordeaux</td>\n",
       "      <td>Bordeaux Rosé</td>\n",
       "      <td>Rosé</td>\n",
       "      <td>Château Suau</td>\n",
       "    </tr>\n",
       "    <tr>\n",
       "      <th>4</th>\n",
       "      <td>France</td>\n",
       "      <td>Beautifully balanced, this conveys both rich f...</td>\n",
       "      <td>Clos Häuserer Wintzenheim</td>\n",
       "      <td>93</td>\n",
       "      <td>65.0</td>\n",
       "      <td>Alsace</td>\n",
       "      <td>Alsace</td>\n",
       "      <td>Riesling</td>\n",
       "      <td>Domaine Zind-Humbrecht</td>\n",
       "    </tr>\n",
       "    <tr>\n",
       "      <th>...</th>\n",
       "      <td>...</td>\n",
       "      <td>...</td>\n",
       "      <td>...</td>\n",
       "      <td>...</td>\n",
       "      <td>...</td>\n",
       "      <td>...</td>\n",
       "      <td>...</td>\n",
       "      <td>...</td>\n",
       "      <td>...</td>\n",
       "    </tr>\n",
       "    <tr>\n",
       "      <th>6181</th>\n",
       "      <td>France</td>\n",
       "      <td>The muted nose offers faint hay and floral aro...</td>\n",
       "      <td>Brut</td>\n",
       "      <td>87</td>\n",
       "      <td>40.0</td>\n",
       "      <td>Champagne</td>\n",
       "      <td>Champagne</td>\n",
       "      <td>Champagne Blend</td>\n",
       "      <td>Nicolas Feuillatte</td>\n",
       "    </tr>\n",
       "    <tr>\n",
       "      <th>6182</th>\n",
       "      <td>France</td>\n",
       "      <td>A voluptuous blockbuster in the style we are b...</td>\n",
       "      <td>Le Pigeonnier</td>\n",
       "      <td>93</td>\n",
       "      <td>60.0</td>\n",
       "      <td>Southwest France</td>\n",
       "      <td>Cahors</td>\n",
       "      <td>Malbec</td>\n",
       "      <td>Château Lagrézette</td>\n",
       "    </tr>\n",
       "    <tr>\n",
       "      <th>6183</th>\n",
       "      <td>France</td>\n",
       "      <td>Impressive dark purple in color, this powerful...</td>\n",
       "      <td>NaN</td>\n",
       "      <td>87</td>\n",
       "      <td>20.0</td>\n",
       "      <td>Southwest France</td>\n",
       "      <td>Cahors</td>\n",
       "      <td>Red Blend</td>\n",
       "      <td>Château Lagrézette</td>\n",
       "    </tr>\n",
       "    <tr>\n",
       "      <th>6184</th>\n",
       "      <td>France</td>\n",
       "      <td>This one comes from the Mouton branch of the R...</td>\n",
       "      <td>NaN</td>\n",
       "      <td>82</td>\n",
       "      <td>14.0</td>\n",
       "      <td>Bordeaux</td>\n",
       "      <td>Graves</td>\n",
       "      <td>White Blend</td>\n",
       "      <td>Baron Philippe de Rothschild</td>\n",
       "    </tr>\n",
       "    <tr>\n",
       "      <th>6185</th>\n",
       "      <td>France</td>\n",
       "      <td>A famous old brand that seems to be living off...</td>\n",
       "      <td>Mouton Cadet</td>\n",
       "      <td>81</td>\n",
       "      <td>11.0</td>\n",
       "      <td>Bordeaux</td>\n",
       "      <td>Bordeaux Blanc</td>\n",
       "      <td>Bordeaux-style White Blend</td>\n",
       "      <td>Baron Philippe de Rothschild</td>\n",
       "    </tr>\n",
       "  </tbody>\n",
       "</table>\n",
       "<p>6186 rows × 9 columns</p>\n",
       "</div>"
      ],
      "text/plain": [
       "     country                                        description  \\\n",
       "0     France  Coming from a seven-acre vineyard named after ...   \n",
       "1     France  Delicious while also young and textured, this ...   \n",
       "2     France  The steely character of a young Chablis is ver...   \n",
       "3     France  Lightly structured, this is a balanced, ripe w...   \n",
       "4     France  Beautifully balanced, this conveys both rich f...   \n",
       "...      ...                                                ...   \n",
       "6181  France  The muted nose offers faint hay and floral aro...   \n",
       "6182  France  A voluptuous blockbuster in the style we are b...   \n",
       "6183  France  Impressive dark purple in color, this powerful...   \n",
       "6184  France  This one comes from the Mouton branch of the R...   \n",
       "6185  France  A famous old brand that seems to be living off...   \n",
       "\n",
       "                    designation  points  price          province  \\\n",
       "0                 Le Pigeonnier      95  290.0  Southwest France   \n",
       "1                       Le Pavé      90    NaN      Loire Valley   \n",
       "2        Fourchaume Premier Cru      91   38.0          Burgundy   \n",
       "3                           NaN      90   15.0          Bordeaux   \n",
       "4     Clos Häuserer Wintzenheim      93   65.0            Alsace   \n",
       "...                         ...     ...    ...               ...   \n",
       "6181                       Brut      87   40.0         Champagne   \n",
       "6182              Le Pigeonnier      93   60.0  Southwest France   \n",
       "6183                        NaN      87   20.0  Southwest France   \n",
       "6184                        NaN      82   14.0          Bordeaux   \n",
       "6185               Mouton Cadet      81   11.0          Bordeaux   \n",
       "\n",
       "            region_1                     variety                        winery  \n",
       "0             Cahors                      Malbec            Château Lagrézette  \n",
       "1           Sancerre             Sauvignon Blanc              Domaine Vacheron  \n",
       "2            Chablis                  Chardonnay                     Louis Max  \n",
       "3      Bordeaux Rosé                        Rosé                  Château Suau  \n",
       "4             Alsace                    Riesling        Domaine Zind-Humbrecht  \n",
       "...              ...                         ...                           ...  \n",
       "6181       Champagne             Champagne Blend            Nicolas Feuillatte  \n",
       "6182          Cahors                      Malbec            Château Lagrézette  \n",
       "6183          Cahors                   Red Blend            Château Lagrézette  \n",
       "6184          Graves                 White Blend  Baron Philippe de Rothschild  \n",
       "6185  Bordeaux Blanc  Bordeaux-style White Blend  Baron Philippe de Rothschild  \n",
       "\n",
       "[6186 rows x 9 columns]"
      ]
     },
     "execution_count": 190,
     "metadata": {},
     "output_type": "execute_result"
    }
   ],
   "source": [
    "# if we give the same treshhold as for varieties, at 30. \n",
    "france_lim = france_lim.loc[france_lim.winery.isin(wineries.index)]\n",
    "\n",
    "# reset index\n",
    "france_lim.reset_index(drop = True, inplace = True)\n",
    "france_lim"
   ]
  },
  {
   "cell_type": "markdown",
   "metadata": {},
   "source": [
    "Have now reduced the dataset from 21099 to 6186 rows, which is also the amount after limiting the varieties. This means that no data is lost after removing the wineries with less than 30 occurences in the *france_lim* dataset. "
   ]
  },
  {
   "cell_type": "markdown",
   "metadata": {},
   "source": [
    "### Price & Designation"
   ]
  },
  {
   "cell_type": "code",
   "execution_count": 194,
   "metadata": {},
   "outputs": [
    {
     "data": {
      "text/plain": [
       "NaN      1135\n",
       "20.0      185\n",
       "30.0      152\n",
       "25.0      142\n",
       "22.0      128\n",
       "         ... \n",
       "255.0       1\n",
       "167.0       1\n",
       "520.0       1\n",
       "236.0       1\n",
       "121.0       1\n",
       "Name: price, Length: 250, dtype: int64"
      ]
     },
     "execution_count": 194,
     "metadata": {},
     "output_type": "execute_result"
    }
   ],
   "source": [
    "france_lim.price.value_counts(dropna = False)"
   ]
  },
  {
   "cell_type": "markdown",
   "metadata": {},
   "source": [
    "Now, 18% of the prices are missing. It should not be a problem to include the prices at this rate, but it may depend on the choice of visualization. "
   ]
  },
  {
   "cell_type": "code",
   "execution_count": 197,
   "metadata": {},
   "outputs": [
    {
     "data": {
      "text/plain": [
       "NaN                                  1394\n",
       "Réserve                                61\n",
       "Vieilles Vignes                        51\n",
       "Brut                                   48\n",
       "Premier Cru                            42\n",
       "                                     ... \n",
       "Sancerre d'Antan Terroir de Silex       1\n",
       "Clos Häuserer Wintzenheim               1\n",
       "Les Abeilles                            1\n",
       "Les Folatières                          1\n",
       "Aile d'Argent Barrel Sample             1\n",
       "Name: designation, Length: 1475, dtype: int64"
      ]
     },
     "execution_count": 197,
     "metadata": {},
     "output_type": "execute_result"
    }
   ],
   "source": [
    "france_lim.designation.value_counts(dropna = False)"
   ]
  },
  {
   "cell_type": "markdown",
   "metadata": {},
   "source": [
    "About 22% of the designation is now missing. This is also something to consider when choosing a visualization. "
   ]
  },
  {
   "cell_type": "markdown",
   "metadata": {},
   "source": [
    "### Province"
   ]
  },
  {
   "cell_type": "code",
   "execution_count": 199,
   "metadata": {},
   "outputs": [
    {
     "data": {
      "text/plain": [
       "Burgundy                2877\n",
       "Alsace                   804\n",
       "Loire Valley             535\n",
       "Southwest France         443\n",
       "Champagne                375\n",
       "Rhône Valley             360\n",
       "Languedoc-Roussillon     231\n",
       "Beaujolais               225\n",
       "Bordeaux                 158\n",
       "Provence                 134\n",
       "France Other              44\n",
       "Name: province, dtype: int64"
      ]
     },
     "execution_count": 199,
     "metadata": {},
     "output_type": "execute_result"
    }
   ],
   "source": [
    "france_lim.province.value_counts()"
   ]
  },
  {
   "cell_type": "markdown",
   "metadata": {},
   "source": [
    "When limiting the dataset based on the varieties and wineries, we loose one province, which is *Santa Barbara County-Condrieu*. \n",
    "\n",
    "I am wondering if anything might be off about this province to start with, as it does not appear to be in France at all when searching on the internet. "
   ]
  },
  {
   "cell_type": "code",
   "execution_count": 200,
   "metadata": {},
   "outputs": [
    {
     "data": {
      "text/html": [
       "<div>\n",
       "<style scoped>\n",
       "    .dataframe tbody tr th:only-of-type {\n",
       "        vertical-align: middle;\n",
       "    }\n",
       "\n",
       "    .dataframe tbody tr th {\n",
       "        vertical-align: top;\n",
       "    }\n",
       "\n",
       "    .dataframe thead th {\n",
       "        text-align: right;\n",
       "    }\n",
       "</style>\n",
       "<table border=\"1\" class=\"dataframe\">\n",
       "  <thead>\n",
       "    <tr style=\"text-align: right;\">\n",
       "      <th></th>\n",
       "      <th>country</th>\n",
       "      <th>description</th>\n",
       "      <th>designation</th>\n",
       "      <th>points</th>\n",
       "      <th>price</th>\n",
       "      <th>province</th>\n",
       "      <th>region_1</th>\n",
       "      <th>variety</th>\n",
       "      <th>winery</th>\n",
       "    </tr>\n",
       "  </thead>\n",
       "  <tbody>\n",
       "    <tr>\n",
       "      <th>20265</th>\n",
       "      <td>US-France</td>\n",
       "      <td>Defies categorization, in more ways than one. ...</td>\n",
       "      <td>NaN</td>\n",
       "      <td>88</td>\n",
       "      <td>50.0</td>\n",
       "      <td>Santa Barbara County-Condrieu</td>\n",
       "      <td>NaN</td>\n",
       "      <td>Viognier</td>\n",
       "      <td>Deux C</td>\n",
       "    </tr>\n",
       "  </tbody>\n",
       "</table>\n",
       "</div>"
      ],
      "text/plain": [
       "         country                                        description  \\\n",
       "20265  US-France  Defies categorization, in more ways than one. ...   \n",
       "\n",
       "      designation  points  price                       province region_1  \\\n",
       "20265         NaN      88   50.0  Santa Barbara County-Condrieu      NaN   \n",
       "\n",
       "        variety  winery  \n",
       "20265  Viognier  Deux C  "
      ]
     },
     "execution_count": 200,
     "metadata": {},
     "output_type": "execute_result"
    }
   ],
   "source": [
    "france.loc[france.province == 'Santa Barbara County-Condrieu']"
   ]
  },
  {
   "cell_type": "markdown",
   "metadata": {},
   "source": [
    "Can see from the original data that it is located in a mix (it seems like) of US-France. As it only appears once, it can be counted as non-relevant for us. \n",
    "\n",
    "One positive thing is that since we still have all the other provinces from the original dataset, we have not lost any representation of areas. "
   ]
  },
  {
   "cell_type": "markdown",
   "metadata": {},
   "source": [
    "### Ideas for visualisation\n",
    "\n",
    "Just wanted to write down some thoughts I had on how this could be presented: \n",
    "\n",
    "As many of the current visualizations that exist is basically google maps with locations on them, it could be cool to create a clean map (just the borders and names of the provinces). Then add different icons that signify the different varieties (a symbol of some kind, maybe their coat of arms). Then you can click on a province, get that province enlarged and see the different wineries, some information about them (maybe). \n",
    "\n",
    "Would also be cool to show some statistics of some kind for that province and their wines potentially. \n",
    "\n"
   ]
  },
  {
   "cell_type": "code",
   "execution_count": null,
   "metadata": {},
   "outputs": [],
   "source": []
  }
 ],
 "metadata": {
  "kernelspec": {
   "display_name": "Python 3",
   "language": "python",
   "name": "python3"
  },
  "language_info": {
   "codemirror_mode": {
    "name": "ipython",
    "version": 3
   },
   "file_extension": ".py",
   "mimetype": "text/x-python",
   "name": "python",
   "nbconvert_exporter": "python",
   "pygments_lexer": "ipython3",
   "version": "3.7.6"
  }
 },
 "nbformat": 4,
 "nbformat_minor": 4
}
