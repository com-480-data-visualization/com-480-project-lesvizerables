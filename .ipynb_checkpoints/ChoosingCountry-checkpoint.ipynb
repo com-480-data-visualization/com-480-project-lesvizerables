{
 "cells": [
  {
   "cell_type": "markdown",
   "metadata": {},
   "source": [
    "## Which country do we want to visualize?\n",
    "\n",
    "Link to dataset: https://www.kaggle.com/zynicide/wine-reviews?fbclid=IwAR1gC2zwk_Km3CmF-C8OnCy7bd7NNfPlNGrBqnXD-lYbwFCHdoCSh0TX8ZI"
   ]
  },
  {
   "cell_type": "code",
   "execution_count": 1,
   "metadata": {},
   "outputs": [],
   "source": [
    "# Import packages that are used\n",
    "import pandas as pd"
   ]
  },
  {
   "cell_type": "code",
   "execution_count": 2,
   "metadata": {},
   "outputs": [
    {
     "data": {
      "text/html": [
       "<div>\n",
       "<style scoped>\n",
       "    .dataframe tbody tr th:only-of-type {\n",
       "        vertical-align: middle;\n",
       "    }\n",
       "\n",
       "    .dataframe tbody tr th {\n",
       "        vertical-align: top;\n",
       "    }\n",
       "\n",
       "    .dataframe thead th {\n",
       "        text-align: right;\n",
       "    }\n",
       "</style>\n",
       "<table border=\"1\" class=\"dataframe\">\n",
       "  <thead>\n",
       "    <tr style=\"text-align: right;\">\n",
       "      <th></th>\n",
       "      <th>Unnamed: 0</th>\n",
       "      <th>country</th>\n",
       "      <th>description</th>\n",
       "      <th>designation</th>\n",
       "      <th>points</th>\n",
       "      <th>price</th>\n",
       "      <th>province</th>\n",
       "      <th>region_1</th>\n",
       "      <th>region_2</th>\n",
       "      <th>taster_name</th>\n",
       "      <th>taster_twitter_handle</th>\n",
       "      <th>title</th>\n",
       "      <th>variety</th>\n",
       "      <th>winery</th>\n",
       "    </tr>\n",
       "  </thead>\n",
       "  <tbody>\n",
       "    <tr>\n",
       "      <td>0</td>\n",
       "      <td>0</td>\n",
       "      <td>Italy</td>\n",
       "      <td>Aromas include tropical fruit, broom, brimston...</td>\n",
       "      <td>Vulkà Bianco</td>\n",
       "      <td>87</td>\n",
       "      <td>NaN</td>\n",
       "      <td>Sicily &amp; Sardinia</td>\n",
       "      <td>Etna</td>\n",
       "      <td>NaN</td>\n",
       "      <td>Kerin O’Keefe</td>\n",
       "      <td>@kerinokeefe</td>\n",
       "      <td>Nicosia 2013 Vulkà Bianco  (Etna)</td>\n",
       "      <td>White Blend</td>\n",
       "      <td>Nicosia</td>\n",
       "    </tr>\n",
       "    <tr>\n",
       "      <td>1</td>\n",
       "      <td>1</td>\n",
       "      <td>Portugal</td>\n",
       "      <td>This is ripe and fruity, a wine that is smooth...</td>\n",
       "      <td>Avidagos</td>\n",
       "      <td>87</td>\n",
       "      <td>15.0</td>\n",
       "      <td>Douro</td>\n",
       "      <td>NaN</td>\n",
       "      <td>NaN</td>\n",
       "      <td>Roger Voss</td>\n",
       "      <td>@vossroger</td>\n",
       "      <td>Quinta dos Avidagos 2011 Avidagos Red (Douro)</td>\n",
       "      <td>Portuguese Red</td>\n",
       "      <td>Quinta dos Avidagos</td>\n",
       "    </tr>\n",
       "    <tr>\n",
       "      <td>2</td>\n",
       "      <td>2</td>\n",
       "      <td>US</td>\n",
       "      <td>Tart and snappy, the flavors of lime flesh and...</td>\n",
       "      <td>NaN</td>\n",
       "      <td>87</td>\n",
       "      <td>14.0</td>\n",
       "      <td>Oregon</td>\n",
       "      <td>Willamette Valley</td>\n",
       "      <td>Willamette Valley</td>\n",
       "      <td>Paul Gregutt</td>\n",
       "      <td>@paulgwine</td>\n",
       "      <td>Rainstorm 2013 Pinot Gris (Willamette Valley)</td>\n",
       "      <td>Pinot Gris</td>\n",
       "      <td>Rainstorm</td>\n",
       "    </tr>\n",
       "  </tbody>\n",
       "</table>\n",
       "</div>"
      ],
      "text/plain": [
       "   Unnamed: 0   country                                        description  \\\n",
       "0           0     Italy  Aromas include tropical fruit, broom, brimston...   \n",
       "1           1  Portugal  This is ripe and fruity, a wine that is smooth...   \n",
       "2           2        US  Tart and snappy, the flavors of lime flesh and...   \n",
       "\n",
       "    designation  points  price           province           region_1  \\\n",
       "0  Vulkà Bianco      87    NaN  Sicily & Sardinia               Etna   \n",
       "1      Avidagos      87   15.0              Douro                NaN   \n",
       "2           NaN      87   14.0             Oregon  Willamette Valley   \n",
       "\n",
       "            region_2    taster_name taster_twitter_handle  \\\n",
       "0                NaN  Kerin O’Keefe          @kerinokeefe   \n",
       "1                NaN     Roger Voss            @vossroger   \n",
       "2  Willamette Valley   Paul Gregutt           @paulgwine    \n",
       "\n",
       "                                           title         variety  \\\n",
       "0              Nicosia 2013 Vulkà Bianco  (Etna)     White Blend   \n",
       "1  Quinta dos Avidagos 2011 Avidagos Red (Douro)  Portuguese Red   \n",
       "2  Rainstorm 2013 Pinot Gris (Willamette Valley)      Pinot Gris   \n",
       "\n",
       "                winery  \n",
       "0              Nicosia  \n",
       "1  Quinta dos Avidagos  \n",
       "2            Rainstorm  "
      ]
     },
     "execution_count": 2,
     "metadata": {},
     "output_type": "execute_result"
    }
   ],
   "source": [
    "wines = pd.read_csv('Data/winemag-data-130k-v2.csv', sep = ',')\n",
    "wines.head(3)"
   ]
  },
  {
   "cell_type": "code",
   "execution_count": 3,
   "metadata": {},
   "outputs": [
    {
     "data": {
      "text/plain": [
       "US           54504\n",
       "France       22093\n",
       "Italy        19540\n",
       "Spain         6645\n",
       "Portugal      5691\n",
       "Chile         4472\n",
       "Argentina     3800\n",
       "Austria       3345\n",
       "Australia     2329\n",
       "Germany       2165\n",
       "Name: country, dtype: int64"
      ]
     },
     "execution_count": 3,
     "metadata": {},
     "output_type": "execute_result"
    }
   ],
   "source": [
    "# What countries are in the dataframe?\n",
    "wines.country.value_counts()[:10]"
   ]
  },
  {
   "cell_type": "markdown",
   "metadata": {},
   "source": [
    "Countries of interest are one of the top 3. Which one do we wanna work with? Lets look at how may regions that are included for the different countries first."
   ]
  },
  {
   "cell_type": "code",
   "execution_count": 4,
   "metadata": {},
   "outputs": [],
   "source": [
    "us = wines[wines.country.str.contains('US', na=False)]\n",
    "france = wines[wines.country.str.contains('France', na=False)]\n",
    "italy = wines[wines.country.str.contains('Italy', na=False)]"
   ]
  },
  {
   "cell_type": "markdown",
   "metadata": {},
   "source": [
    "### US"
   ]
  },
  {
   "cell_type": "code",
   "execution_count": 5,
   "metadata": {},
   "outputs": [
    {
     "name": "stdout",
     "output_type": "stream",
     "text": [
      "US Provinces:\n",
      "\n",
      " California           36247\n",
      "Washington            8639\n",
      "Oregon                5373\n",
      "New York              2688\n",
      "Virginia               777\n",
      "Idaho                  192\n",
      "Michigan               114\n",
      "America                 95\n",
      "Texas                   94\n",
      "Colorado                68\n",
      "New Mexico              45\n",
      "Arizona                 41\n",
      "Missouri                33\n",
      "North Carolina          23\n",
      "Pennsylvania            18\n",
      "Ohio                    12\n",
      "New Jersey               8\n",
      "Massachusetts            7\n",
      "Washington-Oregon        7\n",
      "Illinois                 6\n",
      "Iowa                     4\n",
      "Nevada                   4\n",
      "Connecticut              3\n",
      "Vermont                  3\n",
      "Kentucky                 1\n",
      "Hawaii                   1\n",
      "Rhode Island             1\n",
      "Name: province, dtype: int64 \n",
      "\n",
      "US Region 1:\n",
      "\n",
      " Napa Valley                               4480\n",
      "Columbia Valley (WA)                      4124\n",
      "Russian River Valley                      3091\n",
      "California                                2629\n",
      "Paso Robles                               2350\n",
      "                                          ... \n",
      "California-Oregon                            1\n",
      "Sonoma-Napa-Lake                             1\n",
      "Ohio                                         1\n",
      "Monterey-San Luis Obispo-Santa Barbara       1\n",
      "Napa-Amador                                  1\n",
      "Name: region_1, Length: 264, dtype: int64 \n",
      "\n",
      "US Region 2:\n",
      "\n",
      " Central Coast        11065\n",
      "Sonoma                9028\n",
      "Columbia Valley       8103\n",
      "Napa                  6814\n",
      "Willamette Valley     3423\n",
      "California Other      2663\n",
      "Finger Lakes          1777\n",
      "Sierra Foothills      1462\n",
      "Napa-Sonoma           1169\n",
      "Central Valley        1062\n",
      "Southern Oregon        917\n",
      "Oregon Other           727\n",
      "Long Island            680\n",
      "North Coast            584\n",
      "Washington Other       534\n",
      "South Coast            272\n",
      "New York Other         231\n",
      "Name: region_2, dtype: int64 \n",
      "\n",
      "Missing data for US:\n"
     ]
    },
    {
     "data": {
      "text/plain": [
       "Unnamed: 0                   0\n",
       "country                      0\n",
       "description                  0\n",
       "designation              17596\n",
       "points                       0\n",
       "price                      239\n",
       "province                     0\n",
       "region_1                   278\n",
       "region_2                  3993\n",
       "taster_name              16774\n",
       "taster_twitter_handle    19763\n",
       "title                        0\n",
       "variety                      0\n",
       "winery                       0\n",
       "dtype: int64"
      ]
     },
     "execution_count": 5,
     "metadata": {},
     "output_type": "execute_result"
    }
   ],
   "source": [
    "print('US Provinces:\\n\\n', us.province.value_counts(), '\\n')\n",
    "print('US Region 1:\\n\\n', us.region_1.value_counts(), '\\n')\n",
    "print('US Region 2:\\n\\n', us.region_2.value_counts(), '\\n')\n",
    "print('Missing data for US:')\n",
    "us.isnull().sum()"
   ]
  },
  {
   "cell_type": "markdown",
   "metadata": {},
   "source": [
    "US has 50 states and the dataset contains:"
   ]
  },
  {
   "cell_type": "code",
   "execution_count": 6,
   "metadata": {},
   "outputs": [
    {
     "data": {
      "text/plain": [
       "27"
      ]
     },
     "execution_count": 6,
     "metadata": {},
     "output_type": "execute_result"
    }
   ],
   "source": [
    "us.province.unique().size"
   ]
  },
  {
   "cell_type": "markdown",
   "metadata": {},
   "source": [
    "### France"
   ]
  },
  {
   "cell_type": "code",
   "execution_count": 7,
   "metadata": {},
   "outputs": [
    {
     "name": "stdout",
     "output_type": "stream",
     "text": [
      "France Provinces:\n",
      "\n",
      " Bordeaux                5941\n",
      "Burgundy                3980\n",
      "Alsace                  2440\n",
      "Loire Valley            1856\n",
      "Champagne               1613\n",
      "Southwest France        1503\n",
      "Provence                1346\n",
      "Rhône Valley            1081\n",
      "Beaujolais              1044\n",
      "France Other             676\n",
      "Languedoc-Roussillon     613\n",
      "Name: province, dtype: int64 \n",
      "\n",
      "France Region 1:\n",
      "\n",
      " Alsace                2163\n",
      "Champagne             1613\n",
      "Côtes de Provence      859\n",
      "Saint-Émilion          561\n",
      "Chablis                559\n",
      "                      ... \n",
      "Burgundy                 1\n",
      "Corton Perrières         1\n",
      "Côtes de Forez           1\n",
      "Cabernet de Saumur       1\n",
      "Coteaux de Verdon        1\n",
      "Name: region_1, Length: 386, dtype: int64 \n",
      "\n",
      "France Region 2:\n",
      "\n",
      " Series([], Name: region_2, dtype: int64) \n",
      "\n",
      "Missing data for France:\n"
     ]
    },
    {
     "data": {
      "text/plain": [
       "Unnamed: 0                   0\n",
       "country                      0\n",
       "description                  0\n",
       "designation               7563\n",
       "points                       0\n",
       "price                     4317\n",
       "province                     0\n",
       "region_1                    76\n",
       "region_2                 22093\n",
       "taster_name                265\n",
       "taster_twitter_handle      265\n",
       "title                        0\n",
       "variety                      0\n",
       "winery                       0\n",
       "dtype: int64"
      ]
     },
     "execution_count": 7,
     "metadata": {},
     "output_type": "execute_result"
    }
   ],
   "source": [
    "print('France Provinces:\\n\\n', france.province.value_counts(), '\\n')\n",
    "print('France Region 1:\\n\\n', france.region_1.value_counts(), '\\n')\n",
    "print('France Region 2:\\n\\n', france.region_2.value_counts(), '\\n')\n",
    "print('Missing data for France:')\n",
    "france.isnull().sum()"
   ]
  },
  {
   "cell_type": "markdown",
   "metadata": {},
   "source": [
    "France has 18 regions and the dataset contains:"
   ]
  },
  {
   "cell_type": "code",
   "execution_count": 8,
   "metadata": {},
   "outputs": [
    {
     "data": {
      "text/plain": [
       "11"
      ]
     },
     "execution_count": 8,
     "metadata": {},
     "output_type": "execute_result"
    }
   ],
   "source": [
    "france.province.unique().size"
   ]
  },
  {
   "cell_type": "markdown",
   "metadata": {},
   "source": [
    "### Italy"
   ]
  },
  {
   "cell_type": "code",
   "execution_count": 9,
   "metadata": {},
   "outputs": [
    {
     "name": "stdout",
     "output_type": "stream",
     "text": [
      "Italy Provinces:\n",
      "\n",
      " Tuscany               5897\n",
      "Piedmont              3729\n",
      "Veneto                2716\n",
      "Northeastern Italy    2138\n",
      "Sicily & Sardinia     1797\n",
      "Southern Italy        1349\n",
      "Central Italy         1233\n",
      "Lombardy               533\n",
      "Italy Other            135\n",
      "Northwestern Italy      13\n",
      "Name: province, dtype: int64 \n",
      "\n",
      "Italy Region 1:\n",
      "\n",
      " Barolo                               1599\n",
      "Brunello di Montalcino               1470\n",
      "Toscana                              1197\n",
      "Chianti Classico                     1062\n",
      "Sicilia                               925\n",
      "                                     ... \n",
      "Coda di Volpe d'Irpinia                 1\n",
      "Dolcetto d'Alba Superiore               1\n",
      "Lamezia                                 1\n",
      "Lambrusco Salamino di Santa Croce       1\n",
      "Paestum                                 1\n",
      "Name: region_1, Length: 381, dtype: int64 \n",
      "\n",
      "Italy Region 2:\n",
      "\n",
      " Series([], Name: region_2, dtype: int64) \n",
      "\n",
      "Missing data for Italy:\n"
     ]
    },
    {
     "data": {
      "text/plain": [
       "Unnamed: 0                   0\n",
       "country                      0\n",
       "description                  0\n",
       "designation               5651\n",
       "points                       0\n",
       "price                     2626\n",
       "province                     0\n",
       "region_1                    27\n",
       "region_2                 19540\n",
       "taster_name               8498\n",
       "taster_twitter_handle     8498\n",
       "title                        0\n",
       "variety                      0\n",
       "winery                       0\n",
       "dtype: int64"
      ]
     },
     "execution_count": 9,
     "metadata": {},
     "output_type": "execute_result"
    }
   ],
   "source": [
    "print('Italy Provinces:\\n\\n', italy.province.value_counts(), '\\n')\n",
    "print('Italy Region 1:\\n\\n', italy.region_1.value_counts(), '\\n')\n",
    "print('Italy Region 2:\\n\\n', italy.region_2.value_counts(), '\\n')\n",
    "print('Missing data for Italy:')\n",
    "italy.isnull().sum()"
   ]
  },
  {
   "cell_type": "markdown",
   "metadata": {},
   "source": [
    "Italy has 20 regions and the dataset contains:"
   ]
  },
  {
   "cell_type": "code",
   "execution_count": 10,
   "metadata": {},
   "outputs": [
    {
     "data": {
      "text/plain": [
       "10"
      ]
     },
     "execution_count": 10,
     "metadata": {},
     "output_type": "execute_result"
    }
   ],
   "source": [
    "italy.province.unique().size"
   ]
  },
  {
   "cell_type": "markdown",
   "metadata": {},
   "source": [
    "### Summary\n",
    "\n",
    "There is a bigger percentage of France's total regions being represented in the dataset compared to US and Italy. This would leed to a better visualization since we want to use a map to visualize the different regions and their wines. If we use a country with the majority of the countries regions being represented in the dataset it would lead to a more complete-looking visualization. \n",
    "\n",
    "Another pro of using France is that the regions are more professional compared to US. They do not have region 1 and 2, only 1, and the regions are usually well know as the wines inherit the regions in their names - for example champagne is only made in the region Champagne. US doesn't use as specific regions and there are so many of them that it will be hard to keep track of and summarize everything when visualizing. \n",
    "\n",
    "There is also very little data missing when looking at France and the categories that we are interested in. \n",
    "\n",
    "**Conclusion:** We will study France."
   ]
  },
  {
   "cell_type": "code",
   "execution_count": null,
   "metadata": {},
   "outputs": [],
   "source": []
  }
 ],
 "metadata": {
  "kernelspec": {
   "display_name": "Python 3",
   "language": "python",
   "name": "python3"
  },
  "language_info": {
   "codemirror_mode": {
    "name": "ipython",
    "version": 3
   },
   "file_extension": ".py",
   "mimetype": "text/x-python",
   "name": "python",
   "nbconvert_exporter": "python",
   "pygments_lexer": "ipython3",
   "version": "3.7.3"
  }
 },
 "nbformat": 4,
 "nbformat_minor": 4
}
