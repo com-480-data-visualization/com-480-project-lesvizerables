{
 "cells": [
  {
   "cell_type": "markdown",
   "metadata": {},
   "source": [
    "# Cleaning the provinces"
   ]
  },
  {
   "cell_type": "code",
   "execution_count": 1,
   "metadata": {},
   "outputs": [],
   "source": [
    "# Import packages that are used\n",
    "import pandas as pd\n",
    "import numpy as np\n",
    "import re \n",
    "import matplotlib.pyplot as plt\n",
    "import seaborn as sns\n",
    "\n",
    "sns.set(style=\"whitegrid\")\n",
    "\n",
    "# To ensure that axis-texts in plots are not cut off\n",
    "plt.tight_layout()"
   ]
  },
  {
   "cell_type": "code",
   "execution_count": 2,
   "metadata": {},
   "outputs": [
    {
     "data": {
      "text/html": [
       "<div>\n",
       "<style scoped>\n",
       "    .dataframe tbody tr th:only-of-type {\n",
       "        vertical-align: middle;\n",
       "    }\n",
       "\n",
       "    .dataframe tbody tr th {\n",
       "        vertical-align: top;\n",
       "    }\n",
       "\n",
       "    .dataframe thead th {\n",
       "        text-align: right;\n",
       "    }\n",
       "</style>\n",
       "<table border=\"1\" class=\"dataframe\">\n",
       "  <thead>\n",
       "    <tr style=\"text-align: right;\">\n",
       "      <th></th>\n",
       "      <th>Unnamed: 0</th>\n",
       "      <th>country</th>\n",
       "      <th>description</th>\n",
       "      <th>designation</th>\n",
       "      <th>points</th>\n",
       "      <th>price</th>\n",
       "      <th>province</th>\n",
       "      <th>region_1</th>\n",
       "      <th>region_2</th>\n",
       "      <th>taster_name</th>\n",
       "      <th>taster_twitter_handle</th>\n",
       "      <th>title</th>\n",
       "      <th>variety</th>\n",
       "      <th>winery</th>\n",
       "    </tr>\n",
       "  </thead>\n",
       "  <tbody>\n",
       "    <tr>\n",
       "      <td>7</td>\n",
       "      <td>7</td>\n",
       "      <td>France</td>\n",
       "      <td>This dry and restrained wine offers spice in p...</td>\n",
       "      <td>NaN</td>\n",
       "      <td>87</td>\n",
       "      <td>24.0</td>\n",
       "      <td>Alsace</td>\n",
       "      <td>Alsace</td>\n",
       "      <td>NaN</td>\n",
       "      <td>Roger Voss</td>\n",
       "      <td>@vossroger</td>\n",
       "      <td>Trimbach 2012 Gewurztraminer (Alsace)</td>\n",
       "      <td>Gewürztraminer</td>\n",
       "      <td>Trimbach</td>\n",
       "    </tr>\n",
       "    <tr>\n",
       "      <td>9</td>\n",
       "      <td>9</td>\n",
       "      <td>France</td>\n",
       "      <td>This has great depth of flavor with its fresh ...</td>\n",
       "      <td>Les Natures</td>\n",
       "      <td>87</td>\n",
       "      <td>27.0</td>\n",
       "      <td>Alsace</td>\n",
       "      <td>Alsace</td>\n",
       "      <td>NaN</td>\n",
       "      <td>Roger Voss</td>\n",
       "      <td>@vossroger</td>\n",
       "      <td>Jean-Baptiste Adam 2012 Les Natures Pinot Gris...</td>\n",
       "      <td>Pinot Gris</td>\n",
       "      <td>Jean-Baptiste Adam</td>\n",
       "    </tr>\n",
       "    <tr>\n",
       "      <td>11</td>\n",
       "      <td>11</td>\n",
       "      <td>France</td>\n",
       "      <td>This is a dry wine, very spicy, with a tight, ...</td>\n",
       "      <td>NaN</td>\n",
       "      <td>87</td>\n",
       "      <td>30.0</td>\n",
       "      <td>Alsace</td>\n",
       "      <td>Alsace</td>\n",
       "      <td>NaN</td>\n",
       "      <td>Roger Voss</td>\n",
       "      <td>@vossroger</td>\n",
       "      <td>Leon Beyer 2012 Gewurztraminer (Alsace)</td>\n",
       "      <td>Gewürztraminer</td>\n",
       "      <td>Leon Beyer</td>\n",
       "    </tr>\n",
       "  </tbody>\n",
       "</table>\n",
       "</div>"
      ],
      "text/plain": [
       "    Unnamed: 0 country                                        description  \\\n",
       "7            7  France  This dry and restrained wine offers spice in p...   \n",
       "9            9  France  This has great depth of flavor with its fresh ...   \n",
       "11          11  France  This is a dry wine, very spicy, with a tight, ...   \n",
       "\n",
       "    designation  points  price province region_1 region_2 taster_name  \\\n",
       "7           NaN      87   24.0   Alsace   Alsace      NaN  Roger Voss   \n",
       "9   Les Natures      87   27.0   Alsace   Alsace      NaN  Roger Voss   \n",
       "11          NaN      87   30.0   Alsace   Alsace      NaN  Roger Voss   \n",
       "\n",
       "   taster_twitter_handle                                              title  \\\n",
       "7             @vossroger              Trimbach 2012 Gewurztraminer (Alsace)   \n",
       "9             @vossroger  Jean-Baptiste Adam 2012 Les Natures Pinot Gris...   \n",
       "11            @vossroger            Leon Beyer 2012 Gewurztraminer (Alsace)   \n",
       "\n",
       "           variety              winery  \n",
       "7   Gewürztraminer            Trimbach  \n",
       "9       Pinot Gris  Jean-Baptiste Adam  \n",
       "11  Gewürztraminer          Leon Beyer  "
      ]
     },
     "execution_count": 2,
     "metadata": {},
     "output_type": "execute_result"
    }
   ],
   "source": [
    "df = pd.read_csv('Data/winemag-data-130k-v2.csv', sep = ',')\n",
    "france = df[df.country.str.contains('France', na=False)]\n",
    "france.head(3)"
   ]
  },
  {
   "cell_type": "code",
   "execution_count": 3,
   "metadata": {},
   "outputs": [
    {
     "data": {
      "text/html": [
       "<div>\n",
       "<style scoped>\n",
       "    .dataframe tbody tr th:only-of-type {\n",
       "        vertical-align: middle;\n",
       "    }\n",
       "\n",
       "    .dataframe tbody tr th {\n",
       "        vertical-align: top;\n",
       "    }\n",
       "\n",
       "    .dataframe thead th {\n",
       "        text-align: right;\n",
       "    }\n",
       "</style>\n",
       "<table border=\"1\" class=\"dataframe\">\n",
       "  <thead>\n",
       "    <tr style=\"text-align: right;\">\n",
       "      <th></th>\n",
       "      <th>description</th>\n",
       "      <th>designation</th>\n",
       "      <th>points</th>\n",
       "      <th>price</th>\n",
       "      <th>province</th>\n",
       "      <th>region</th>\n",
       "      <th>title</th>\n",
       "      <th>variety</th>\n",
       "      <th>winery</th>\n",
       "      <th>year</th>\n",
       "    </tr>\n",
       "  </thead>\n",
       "  <tbody>\n",
       "    <tr>\n",
       "      <td>0</td>\n",
       "      <td>This dry and restrained wine offers spice in p...</td>\n",
       "      <td>NaN</td>\n",
       "      <td>87</td>\n",
       "      <td>24.0</td>\n",
       "      <td>Alsace</td>\n",
       "      <td>Alsace</td>\n",
       "      <td>Trimbach 2012 Gewurztraminer (Alsace)</td>\n",
       "      <td>Gewürztraminer</td>\n",
       "      <td>Trimbach</td>\n",
       "      <td>2012</td>\n",
       "    </tr>\n",
       "    <tr>\n",
       "      <td>1</td>\n",
       "      <td>This has great depth of flavor with its fresh ...</td>\n",
       "      <td>Les Natures</td>\n",
       "      <td>87</td>\n",
       "      <td>27.0</td>\n",
       "      <td>Alsace</td>\n",
       "      <td>Alsace</td>\n",
       "      <td>Jean-Baptiste Adam 2012 Les Natures Pinot Gris...</td>\n",
       "      <td>Pinot Gris</td>\n",
       "      <td>Jean-Baptiste Adam</td>\n",
       "      <td>2012</td>\n",
       "    </tr>\n",
       "    <tr>\n",
       "      <td>2</td>\n",
       "      <td>This is a dry wine, very spicy, with a tight, ...</td>\n",
       "      <td>NaN</td>\n",
       "      <td>87</td>\n",
       "      <td>30.0</td>\n",
       "      <td>Alsace</td>\n",
       "      <td>Alsace</td>\n",
       "      <td>Leon Beyer 2012 Gewurztraminer (Alsace)</td>\n",
       "      <td>Gewürztraminer</td>\n",
       "      <td>Leon Beyer</td>\n",
       "      <td>2012</td>\n",
       "    </tr>\n",
       "  </tbody>\n",
       "</table>\n",
       "</div>"
      ],
      "text/plain": [
       "                                         description  designation  points  \\\n",
       "0  This dry and restrained wine offers spice in p...          NaN      87   \n",
       "1  This has great depth of flavor with its fresh ...  Les Natures      87   \n",
       "2  This is a dry wine, very spicy, with a tight, ...          NaN      87   \n",
       "\n",
       "   price province  region                                              title  \\\n",
       "0   24.0   Alsace  Alsace              Trimbach 2012 Gewurztraminer (Alsace)   \n",
       "1   27.0   Alsace  Alsace  Jean-Baptiste Adam 2012 Les Natures Pinot Gris...   \n",
       "2   30.0   Alsace  Alsace            Leon Beyer 2012 Gewurztraminer (Alsace)   \n",
       "\n",
       "          variety              winery  year  \n",
       "0  Gewürztraminer            Trimbach  2012  \n",
       "1      Pinot Gris  Jean-Baptiste Adam  2012  \n",
       "2  Gewürztraminer          Leon Beyer  2012  "
      ]
     },
     "execution_count": 3,
     "metadata": {},
     "output_type": "execute_result"
    }
   ],
   "source": [
    "# Drop unnecessary columns\n",
    "wines = france.drop(['Unnamed: 0', 'country', 'region_2', 'taster_name','taster_twitter_handle'], axis=1)\\\n",
    "    .rename(columns={'region_1':'region'}).reset_index(drop = True)\n",
    "\n",
    "# Extract year from title\n",
    "wines['year'] = wines['title'].str.extract('(\\d{4})')\n",
    "wines.head(3)\n",
    "\n",
    "# Save cleaned data\n",
    "#wines.to_csv('Data/france_cleaned.csv')"
   ]
  },
  {
   "cell_type": "code",
   "execution_count": 4,
   "metadata": {},
   "outputs": [
    {
     "data": {
      "text/plain": [
       "array(['Alsace', 'Beaujolais', 'Bordeaux', 'Champagne', 'Burgundy',\n",
       "       'France Other', 'Southwest France', 'Rhône Valley',\n",
       "       'Languedoc-Roussillon', 'Provence', 'Loire Valley'], dtype=object)"
      ]
     },
     "execution_count": 4,
     "metadata": {},
     "output_type": "execute_result"
    }
   ],
   "source": [
    "wines.province.unique()"
   ]
  },
  {
   "cell_type": "markdown",
   "metadata": {},
   "source": [
    "### Replacing Southwest France with Midi-Pyrénées or Aquitaine"
   ]
  },
  {
   "cell_type": "code",
   "execution_count": 5,
   "metadata": {},
   "outputs": [
    {
     "data": {
      "text/plain": [
       "array(['Cahors', 'Madiran', 'Vin de Pays des Côtes de Gascogne',\n",
       "       'Côtes de Gascogne', 'Côtes du Lot', 'Gaillac', 'Montravel',\n",
       "       'Monbazillac', 'Gers', 'Fronton', 'Bergerac', 'Jurançon',\n",
       "       'Bergerac Sec', 'Buzet', 'Irrouléguy', 'Côtes du Marmandais',\n",
       "       'Pécharmant', 'Vin de Pays du Comté Tolosan', nan, 'Côtes du Tarn',\n",
       "       'Côtes de Bergerac', 'Pacherenc du Vic Bilh', 'Jurançon Sec',\n",
       "       'Côtes de Duras', 'Vin de Pays du Lot', 'Marcillac', 'Saint-Mont',\n",
       "       'Saussignac', 'Côtes du Frontonnais', 'Brulhois', 'Landes',\n",
       "       'Périgord', 'Bergerac Rosé', 'Lot', 'Béarn', 'Gaillac Doux',\n",
       "       'Côtes de Saint-Mont', 'Côtes de Montravel'], dtype=object)"
      ]
     },
     "execution_count": 5,
     "metadata": {},
     "output_type": "execute_result"
    }
   ],
   "source": [
    "wines[wines.province == 'Southwest France'].region.unique()"
   ]
  },
  {
   "cell_type": "code",
   "execution_count": 6,
   "metadata": {},
   "outputs": [],
   "source": [
    "midi_pyrenees = ['Cahors', 'Madiran', 'Côtes de Gascogne', 'Côtes du Lot', 'Gaillac Doux', \n",
    "                 'Gers', 'Fronton', 'Côtes du Tarn', 'Pacherenc du Vic Bilh', 'Vin de Pays du Lot', \n",
    "                 'Marcillac', 'Saint-Mont', 'Côtes du Frontonnais', 'Brulhois', 'Lot', \n",
    "                 'Côtes de Saint-Mont', 'Vin de Pays des Côtes de Gascogne']\n",
    "aquitaine = ['Montravel', 'Monbazillac', 'Bergerac', 'Bergerac Sec', 'Bergerac Rosé', \n",
    "             'Jurançon', 'Jurançon Sec', 'Buzet', 'Irrouléguy', \n",
    "             'Côtes du Marmandais', 'Pécharmant', 'Côtes de Bergerac', 'Côtes de Duras', \n",
    "             'Saussignac', 'Landes', 'Périgord', 'Béarn', 'Gaillac', 'Côtes de Montravel']"
   ]
  },
  {
   "cell_type": "code",
   "execution_count": 7,
   "metadata": {},
   "outputs": [],
   "source": [
    "wines.loc[wines.region.isin(midi_pyrenees), 'province'] = 'Midi Pyrénées'\n",
    "wines.loc[wines.region.isin(aquitaine), 'province'] = 'Aquitaine'"
   ]
  },
  {
   "cell_type": "code",
   "execution_count": 8,
   "metadata": {},
   "outputs": [
    {
     "data": {
      "text/plain": [
       "array(['Vin de Pays du Comté Tolosan', nan], dtype=object)"
      ]
     },
     "execution_count": 8,
     "metadata": {},
     "output_type": "execute_result"
    }
   ],
   "source": [
    "wines[wines.province == 'Southwest France'].region.unique()"
   ]
  },
  {
   "cell_type": "markdown",
   "metadata": {},
   "source": [
    "### Replacing France Other"
   ]
  },
  {
   "cell_type": "code",
   "execution_count": 9,
   "metadata": {},
   "outputs": [
    {
     "data": {
      "text/plain": [
       "array(['Vin de France', 'Arbois', 'Patrimonio', 'Crémant de Jura',\n",
       "       'Vin de Liqueur', 'Vin de Savoie', 'Mediterranée', 'Vin Mousseux',\n",
       "       'Corse', 'Ile de Beauté', 'Roussette de Savoie', 'Côtes du Jura',\n",
       "       'Savoie', 'Corse Porto Vecchio', 'Vin de Table Francais',\n",
       "       'Atlantique', 'Chignin-Bergeron', nan, 'France', 'Vin Pétillant',\n",
       "       'Château-Chalon', 'Vin de Pays des Portes de Méditerranée',\n",
       "       'Vin de Pays de la Méditerranée', \"Vin de Pays de l'Ile de Beauté\",\n",
       "       'Chignin', 'Côtes de Forez', 'Charentais', 'Vin de Pays de France',\n",
       "       'Apremont'], dtype=object)"
      ]
     },
     "execution_count": 9,
     "metadata": {},
     "output_type": "execute_result"
    }
   ],
   "source": [
    "wines[wines.province == 'France Other'].region.unique()"
   ]
  },
  {
   "cell_type": "code",
   "execution_count": 10,
   "metadata": {},
   "outputs": [],
   "source": [
    "corse = ['Corse', 'Patrimonio', 'Vin de Pays de l\\'Ile de Beauté', 'Ile de Beauté', 'Corse Porto Vecchio']\n",
    "rhone = ['Savoie', 'Vin de Savoie', 'Roussette de Savoie', 'Chignin', 'Côtes de Forez', 'Chignin-Bergeron']\n",
    "provence = ['Vin de Pays des Portes de Méditerranée']\n",
    "poitou_charantes = ['Charentais']\n",
    "franche_comte = ['Château-Chalon', 'Crémant de Jura', 'Côtes du Jura', 'Arbois']\n",
    "loire = ['Apremont']"
   ]
  },
  {
   "cell_type": "code",
   "execution_count": 11,
   "metadata": {},
   "outputs": [],
   "source": [
    "wines.loc[wines.region.isin(corse), 'province'] = 'Corse'\n",
    "wines.loc[wines.region.isin(rhone), 'province'] = 'Rhône Valley'\n",
    "wines.loc[wines.region.isin(provence), 'province'] = 'Provence'\n",
    "wines.loc[wines.region.isin(poitou_charantes), 'province'] = 'Poitou-Charentes'\n",
    "wines.loc[wines.region.isin(franche_comte), 'province'] = 'Franche-Comté'\n",
    "wines.loc[wines.region.isin(loire), 'province'] = 'Loire Valley'"
   ]
  },
  {
   "cell_type": "code",
   "execution_count": 12,
   "metadata": {},
   "outputs": [
    {
     "data": {
      "text/plain": [
       "array(['Vin de France', 'Vin de Liqueur', 'Mediterranée', 'Vin Mousseux',\n",
       "       'Vin de Table Francais', 'Atlantique', nan, 'France',\n",
       "       'Vin Pétillant', 'Vin de Pays de la Méditerranée',\n",
       "       'Vin de Pays de France'], dtype=object)"
      ]
     },
     "execution_count": 12,
     "metadata": {},
     "output_type": "execute_result"
    }
   ],
   "source": [
    "wines[wines.province == 'France Other'].region.unique()"
   ]
  },
  {
   "cell_type": "markdown",
   "metadata": {},
   "source": [
    "### Beaujolais = Brugundy & Bordeaux = Aquitaine"
   ]
  },
  {
   "cell_type": "code",
   "execution_count": 13,
   "metadata": {},
   "outputs": [],
   "source": [
    "wines.loc[wines.province == 'Beaujolais', 'province'] = 'Burgundy'\n",
    "wines.loc[wines.province == 'Bordeaux', 'province'] = 'Aquitaine'"
   ]
  },
  {
   "cell_type": "code",
   "execution_count": 14,
   "metadata": {},
   "outputs": [
    {
     "data": {
      "text/plain": [
       "array(['Alsace', 'Burgundy', 'Aquitaine', 'Champagne', 'France Other',\n",
       "       'Midi Pyrénées', 'Rhône Valley', 'Franche-Comté',\n",
       "       'Languedoc-Roussillon', 'Provence', 'Loire Valley', 'Corse',\n",
       "       'Southwest France', 'Poitou-Charentes'], dtype=object)"
      ]
     },
     "execution_count": 14,
     "metadata": {},
     "output_type": "execute_result"
    }
   ],
   "source": [
    "wines.province.unique()"
   ]
  },
  {
   "cell_type": "markdown",
   "metadata": {},
   "source": [
    "### Look at the data"
   ]
  },
  {
   "cell_type": "code",
   "execution_count": 15,
   "metadata": {},
   "outputs": [
    {
     "data": {
      "text/plain": [
       "Aquitaine               6370\n",
       "Burgundy                5024\n",
       "Alsace                  2440\n",
       "Loire Valley            1857\n",
       "Champagne               1613\n",
       "Provence                1349\n",
       "Rhône Valley            1139\n",
       "Midi Pyrénées           1036\n",
       "Languedoc-Roussillon     613\n",
       "France Other             426\n",
       "Corse                    113\n",
       "Franche-Comté             73\n",
       "Southwest France          38\n",
       "Poitou-Charentes           2\n",
       "Name: province, dtype: int64"
      ]
     },
     "execution_count": 15,
     "metadata": {},
     "output_type": "execute_result"
    }
   ],
   "source": [
    "wines.province.value_counts()"
   ]
  },
  {
   "cell_type": "code",
   "execution_count": 16,
   "metadata": {},
   "outputs": [
    {
     "data": {
      "text/html": [
       "<div>\n",
       "<style scoped>\n",
       "    .dataframe tbody tr th:only-of-type {\n",
       "        vertical-align: middle;\n",
       "    }\n",
       "\n",
       "    .dataframe tbody tr th {\n",
       "        vertical-align: top;\n",
       "    }\n",
       "\n",
       "    .dataframe thead th {\n",
       "        text-align: right;\n",
       "    }\n",
       "</style>\n",
       "<table border=\"1\" class=\"dataframe\">\n",
       "  <thead>\n",
       "    <tr style=\"text-align: right;\">\n",
       "      <th></th>\n",
       "      <th>region</th>\n",
       "    </tr>\n",
       "    <tr>\n",
       "      <th>province</th>\n",
       "      <th></th>\n",
       "    </tr>\n",
       "  </thead>\n",
       "  <tbody>\n",
       "    <tr>\n",
       "      <td>Alsace</td>\n",
       "      <td>2</td>\n",
       "    </tr>\n",
       "    <tr>\n",
       "      <td>Aquitaine</td>\n",
       "      <td>63</td>\n",
       "    </tr>\n",
       "    <tr>\n",
       "      <td>Burgundy</td>\n",
       "      <td>130</td>\n",
       "    </tr>\n",
       "    <tr>\n",
       "      <td>Champagne</td>\n",
       "      <td>1</td>\n",
       "    </tr>\n",
       "    <tr>\n",
       "      <td>Corse</td>\n",
       "      <td>5</td>\n",
       "    </tr>\n",
       "    <tr>\n",
       "      <td>France Other</td>\n",
       "      <td>10</td>\n",
       "    </tr>\n",
       "    <tr>\n",
       "      <td>Franche-Comté</td>\n",
       "      <td>4</td>\n",
       "    </tr>\n",
       "    <tr>\n",
       "      <td>Languedoc-Roussillon</td>\n",
       "      <td>50</td>\n",
       "    </tr>\n",
       "    <tr>\n",
       "      <td>Loire Valley</td>\n",
       "      <td>48</td>\n",
       "    </tr>\n",
       "    <tr>\n",
       "      <td>Midi Pyrénées</td>\n",
       "      <td>17</td>\n",
       "    </tr>\n",
       "    <tr>\n",
       "      <td>Poitou-Charentes</td>\n",
       "      <td>1</td>\n",
       "    </tr>\n",
       "    <tr>\n",
       "      <td>Provence</td>\n",
       "      <td>16</td>\n",
       "    </tr>\n",
       "    <tr>\n",
       "      <td>Rhône Valley</td>\n",
       "      <td>38</td>\n",
       "    </tr>\n",
       "    <tr>\n",
       "      <td>Southwest France</td>\n",
       "      <td>1</td>\n",
       "    </tr>\n",
       "  </tbody>\n",
       "</table>\n",
       "</div>"
      ],
      "text/plain": [
       "                      region\n",
       "province                    \n",
       "Alsace                     2\n",
       "Aquitaine                 63\n",
       "Burgundy                 130\n",
       "Champagne                  1\n",
       "Corse                      5\n",
       "France Other              10\n",
       "Franche-Comté              4\n",
       "Languedoc-Roussillon      50\n",
       "Loire Valley              48\n",
       "Midi Pyrénées             17\n",
       "Poitou-Charentes           1\n",
       "Provence                  16\n",
       "Rhône Valley              38\n",
       "Southwest France           1"
      ]
     },
     "execution_count": 16,
     "metadata": {},
     "output_type": "execute_result"
    }
   ],
   "source": [
    "provinces = wines.groupby(['province', 'region']).agg({'variety':'count'}).reset_index()\n",
    "provinces.groupby(['province']).agg({'region':'count'})"
   ]
  },
  {
   "cell_type": "markdown",
   "metadata": {},
   "source": [
    "We have to many regions for our visualization. Look for example at Brugundy. We just want a simple visualization for wine amateurs and aren't interested in tiny regions."
   ]
  },
  {
   "cell_type": "markdown",
   "metadata": {},
   "source": [
    "### What happens when cleaning varieties & regions a little?\n",
    "\n",
    "We only want to study the most common varieties as the visualization is meant for amateurs."
   ]
  },
  {
   "cell_type": "code",
   "execution_count": 17,
   "metadata": {},
   "outputs": [],
   "source": [
    "varieties = wines.variety.value_counts()"
   ]
  },
  {
   "cell_type": "code",
   "execution_count": 18,
   "metadata": {},
   "outputs": [],
   "source": [
    "# Create dataset with only these varietes. \n",
    "condition = varieties > 100\n",
    "wanted_varieties = varieties[condition]\n",
    "\n",
    "wines_lim = wines[wines.variety.isin(wanted_varieties.index)]"
   ]
  },
  {
   "cell_type": "code",
   "execution_count": 19,
   "metadata": {},
   "outputs": [
    {
     "data": {
      "text/plain": [
       "Aquitaine               6239\n",
       "Burgundy                4985\n",
       "Alsace                  2283\n",
       "Loire Valley            1797\n",
       "Champagne               1594\n",
       "Provence                1215\n",
       "Rhône Valley             968\n",
       "Midi Pyrénées            709\n",
       "Languedoc-Roussillon     502\n",
       "France Other             367\n",
       "Corse                     81\n",
       "Franche-Comté             45\n",
       "Southwest France          26\n",
       "Poitou-Charentes           2\n",
       "Name: province, dtype: int64"
      ]
     },
     "execution_count": 19,
     "metadata": {},
     "output_type": "execute_result"
    }
   ],
   "source": [
    "wines_lim.province.value_counts()"
   ]
  },
  {
   "cell_type": "markdown",
   "metadata": {},
   "source": [
    "We also want to study the most common regions as the visualization is for amateurs."
   ]
  },
  {
   "cell_type": "code",
   "execution_count": 20,
   "metadata": {},
   "outputs": [],
   "source": [
    "regions = wines_lim.region.value_counts()"
   ]
  },
  {
   "cell_type": "code",
   "execution_count": 21,
   "metadata": {},
   "outputs": [],
   "source": [
    "# Create dataset with only these varietes. \n",
    "condition = regions > 8\n",
    "wanted_regions = regions[condition]\n",
    "\n",
    "wines_lim = wines_lim[wines_lim.region.isin(wanted_regions.index)]"
   ]
  },
  {
   "cell_type": "code",
   "execution_count": 22,
   "metadata": {},
   "outputs": [
    {
     "data": {
      "text/plain": [
       "Aquitaine               6153\n",
       "Burgundy                4774\n",
       "Alsace                  2283\n",
       "Loire Valley            1739\n",
       "Champagne               1594\n",
       "Provence                1193\n",
       "Rhône Valley             897\n",
       "Midi Pyrénées            680\n",
       "Languedoc-Roussillon     408\n",
       "France Other             331\n",
       "Corse                     75\n",
       "Franche-Comté             45\n",
       "Name: province, dtype: int64"
      ]
     },
     "execution_count": 22,
     "metadata": {},
     "output_type": "execute_result"
    }
   ],
   "source": [
    "wines_lim.province.value_counts()"
   ]
  },
  {
   "cell_type": "markdown",
   "metadata": {},
   "source": [
    "We still have a good representation of provinces when doing so."
   ]
  },
  {
   "cell_type": "code",
   "execution_count": 23,
   "metadata": {},
   "outputs": [
    {
     "data": {
      "text/html": [
       "<div>\n",
       "<style scoped>\n",
       "    .dataframe tbody tr th:only-of-type {\n",
       "        vertical-align: middle;\n",
       "    }\n",
       "\n",
       "    .dataframe tbody tr th {\n",
       "        vertical-align: top;\n",
       "    }\n",
       "\n",
       "    .dataframe thead th {\n",
       "        text-align: right;\n",
       "    }\n",
       "</style>\n",
       "<table border=\"1\" class=\"dataframe\">\n",
       "  <thead>\n",
       "    <tr style=\"text-align: right;\">\n",
       "      <th></th>\n",
       "      <th>region</th>\n",
       "    </tr>\n",
       "    <tr>\n",
       "      <th>province</th>\n",
       "      <th></th>\n",
       "    </tr>\n",
       "  </thead>\n",
       "  <tbody>\n",
       "    <tr>\n",
       "      <td>Alsace</td>\n",
       "      <td>2</td>\n",
       "    </tr>\n",
       "    <tr>\n",
       "      <td>Aquitaine</td>\n",
       "      <td>42</td>\n",
       "    </tr>\n",
       "    <tr>\n",
       "      <td>Burgundy</td>\n",
       "      <td>74</td>\n",
       "    </tr>\n",
       "    <tr>\n",
       "      <td>Champagne</td>\n",
       "      <td>1</td>\n",
       "    </tr>\n",
       "    <tr>\n",
       "      <td>Corse</td>\n",
       "      <td>3</td>\n",
       "    </tr>\n",
       "    <tr>\n",
       "      <td>France Other</td>\n",
       "      <td>3</td>\n",
       "    </tr>\n",
       "    <tr>\n",
       "      <td>Franche-Comté</td>\n",
       "      <td>3</td>\n",
       "    </tr>\n",
       "    <tr>\n",
       "      <td>Languedoc-Roussillon</td>\n",
       "      <td>13</td>\n",
       "    </tr>\n",
       "    <tr>\n",
       "      <td>Loire Valley</td>\n",
       "      <td>25</td>\n",
       "    </tr>\n",
       "    <tr>\n",
       "      <td>Midi Pyrénées</td>\n",
       "      <td>8</td>\n",
       "    </tr>\n",
       "    <tr>\n",
       "      <td>Provence</td>\n",
       "      <td>9</td>\n",
       "    </tr>\n",
       "    <tr>\n",
       "      <td>Rhône Valley</td>\n",
       "      <td>15</td>\n",
       "    </tr>\n",
       "  </tbody>\n",
       "</table>\n",
       "</div>"
      ],
      "text/plain": [
       "                      region\n",
       "province                    \n",
       "Alsace                     2\n",
       "Aquitaine                 42\n",
       "Burgundy                  74\n",
       "Champagne                  1\n",
       "Corse                      3\n",
       "France Other               3\n",
       "Franche-Comté              3\n",
       "Languedoc-Roussillon      13\n",
       "Loire Valley              25\n",
       "Midi Pyrénées              8\n",
       "Provence                   9\n",
       "Rhône Valley              15"
      ]
     },
     "execution_count": 23,
     "metadata": {},
     "output_type": "execute_result"
    }
   ],
   "source": [
    "provinces = wines_lim.groupby(['province', 'region']).agg({'variety':'count'}).reset_index()\n",
    "provinces.groupby(['province']).agg({'region':'count'})"
   ]
  },
  {
   "cell_type": "markdown",
   "metadata": {},
   "source": [
    "We now have a better representation for regions. We can clearly see which provinces are larger wine producers and we don't have as many regions for Burgundy."
   ]
  },
  {
   "cell_type": "code",
   "execution_count": null,
   "metadata": {},
   "outputs": [],
   "source": []
  },
  {
   "cell_type": "code",
   "execution_count": null,
   "metadata": {},
   "outputs": [],
   "source": []
  },
  {
   "cell_type": "code",
   "execution_count": null,
   "metadata": {},
   "outputs": [],
   "source": []
  },
  {
   "cell_type": "code",
   "execution_count": 74,
   "metadata": {},
   "outputs": [],
   "source": [
    "#wines.loc[wines.region == 'Vin de Pays des Côtes de Gascogne', 'region'] = 'Côtes de Gascogne'\n",
    "#wines.loc[wines.region == 'Vin de Pays du Lot', 'region'] = 'Lot'\n",
    "#wines.loc[wines.region == 'Bergerac Sec', 'region'] = 'Bergerac'\n",
    "#wines.loc[wines.region == 'Jurançon Sec', 'region'] = 'Jurançon'\n",
    "#wines.loc[wines.region == 'Bergerac Rosé', 'region'] = 'Bergerac'\n",
    "#wines.loc[wines.region == 'Gaillac Doux', 'region'] = 'Gaillac'"
   ]
  },
  {
   "cell_type": "code",
   "execution_count": null,
   "metadata": {},
   "outputs": [],
   "source": [
    "#wines.loc[wines.region == 'Roussette de Savoie', 'region'] = 'Savoie'\n",
    "#wines.loc[wines.region == 'Vin de Savoie', 'region'] = 'Savoie'\n",
    "#wines.loc[wines.region == 'Crémant de Jura', 'region'] = 'Jura'"
   ]
  }
 ],
 "metadata": {
  "kernelspec": {
   "display_name": "Python 3",
   "language": "python",
   "name": "python3"
  },
  "language_info": {
   "codemirror_mode": {
    "name": "ipython",
    "version": 3
   },
   "file_extension": ".py",
   "mimetype": "text/x-python",
   "name": "python",
   "nbconvert_exporter": "python",
   "pygments_lexer": "ipython3",
   "version": "3.7.3"
  }
 },
 "nbformat": 4,
 "nbformat_minor": 4
}
