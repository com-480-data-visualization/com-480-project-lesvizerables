{
 "cells": [
  {
   "cell_type": "markdown",
   "metadata": {},
   "source": [
    "# Cleaning the provinces"
   ]
  },
  {
   "cell_type": "code",
   "execution_count": 52,
   "metadata": {},
   "outputs": [
    {
     "data": {
      "text/plain": [
       "<Figure size 432x288 with 0 Axes>"
      ]
     },
     "metadata": {},
     "output_type": "display_data"
    }
   ],
   "source": [
    "# Import packages that are used\n",
    "import pandas as pd\n",
    "import numpy as np\n",
    "import re \n",
    "import matplotlib.pyplot as plt\n",
    "import seaborn as sns\n",
    "\n",
    "# To ensure that axis-texts in plots are not cut off\n",
    "plt.tight_layout()"
   ]
  },
  {
   "cell_type": "code",
   "execution_count": 53,
   "metadata": {},
   "outputs": [
    {
     "data": {
      "text/html": [
       "<div>\n",
       "<style scoped>\n",
       "    .dataframe tbody tr th:only-of-type {\n",
       "        vertical-align: middle;\n",
       "    }\n",
       "\n",
       "    .dataframe tbody tr th {\n",
       "        vertical-align: top;\n",
       "    }\n",
       "\n",
       "    .dataframe thead th {\n",
       "        text-align: right;\n",
       "    }\n",
       "</style>\n",
       "<table border=\"1\" class=\"dataframe\">\n",
       "  <thead>\n",
       "    <tr style=\"text-align: right;\">\n",
       "      <th></th>\n",
       "      <th>Unnamed: 0</th>\n",
       "      <th>country</th>\n",
       "      <th>description</th>\n",
       "      <th>designation</th>\n",
       "      <th>points</th>\n",
       "      <th>price</th>\n",
       "      <th>province</th>\n",
       "      <th>region_1</th>\n",
       "      <th>region_2</th>\n",
       "      <th>taster_name</th>\n",
       "      <th>taster_twitter_handle</th>\n",
       "      <th>title</th>\n",
       "      <th>variety</th>\n",
       "      <th>winery</th>\n",
       "    </tr>\n",
       "  </thead>\n",
       "  <tbody>\n",
       "    <tr>\n",
       "      <td>7</td>\n",
       "      <td>7</td>\n",
       "      <td>France</td>\n",
       "      <td>This dry and restrained wine offers spice in p...</td>\n",
       "      <td>NaN</td>\n",
       "      <td>87</td>\n",
       "      <td>24.0</td>\n",
       "      <td>Alsace</td>\n",
       "      <td>Alsace</td>\n",
       "      <td>NaN</td>\n",
       "      <td>Roger Voss</td>\n",
       "      <td>@vossroger</td>\n",
       "      <td>Trimbach 2012 Gewurztraminer (Alsace)</td>\n",
       "      <td>Gewürztraminer</td>\n",
       "      <td>Trimbach</td>\n",
       "    </tr>\n",
       "    <tr>\n",
       "      <td>9</td>\n",
       "      <td>9</td>\n",
       "      <td>France</td>\n",
       "      <td>This has great depth of flavor with its fresh ...</td>\n",
       "      <td>Les Natures</td>\n",
       "      <td>87</td>\n",
       "      <td>27.0</td>\n",
       "      <td>Alsace</td>\n",
       "      <td>Alsace</td>\n",
       "      <td>NaN</td>\n",
       "      <td>Roger Voss</td>\n",
       "      <td>@vossroger</td>\n",
       "      <td>Jean-Baptiste Adam 2012 Les Natures Pinot Gris...</td>\n",
       "      <td>Pinot Gris</td>\n",
       "      <td>Jean-Baptiste Adam</td>\n",
       "    </tr>\n",
       "    <tr>\n",
       "      <td>11</td>\n",
       "      <td>11</td>\n",
       "      <td>France</td>\n",
       "      <td>This is a dry wine, very spicy, with a tight, ...</td>\n",
       "      <td>NaN</td>\n",
       "      <td>87</td>\n",
       "      <td>30.0</td>\n",
       "      <td>Alsace</td>\n",
       "      <td>Alsace</td>\n",
       "      <td>NaN</td>\n",
       "      <td>Roger Voss</td>\n",
       "      <td>@vossroger</td>\n",
       "      <td>Leon Beyer 2012 Gewurztraminer (Alsace)</td>\n",
       "      <td>Gewürztraminer</td>\n",
       "      <td>Leon Beyer</td>\n",
       "    </tr>\n",
       "  </tbody>\n",
       "</table>\n",
       "</div>"
      ],
      "text/plain": [
       "    Unnamed: 0 country                                        description  \\\n",
       "7            7  France  This dry and restrained wine offers spice in p...   \n",
       "9            9  France  This has great depth of flavor with its fresh ...   \n",
       "11          11  France  This is a dry wine, very spicy, with a tight, ...   \n",
       "\n",
       "    designation  points  price province region_1 region_2 taster_name  \\\n",
       "7           NaN      87   24.0   Alsace   Alsace      NaN  Roger Voss   \n",
       "9   Les Natures      87   27.0   Alsace   Alsace      NaN  Roger Voss   \n",
       "11          NaN      87   30.0   Alsace   Alsace      NaN  Roger Voss   \n",
       "\n",
       "   taster_twitter_handle                                              title  \\\n",
       "7             @vossroger              Trimbach 2012 Gewurztraminer (Alsace)   \n",
       "9             @vossroger  Jean-Baptiste Adam 2012 Les Natures Pinot Gris...   \n",
       "11            @vossroger            Leon Beyer 2012 Gewurztraminer (Alsace)   \n",
       "\n",
       "           variety              winery  \n",
       "7   Gewürztraminer            Trimbach  \n",
       "9       Pinot Gris  Jean-Baptiste Adam  \n",
       "11  Gewürztraminer          Leon Beyer  "
      ]
     },
     "execution_count": 53,
     "metadata": {},
     "output_type": "execute_result"
    }
   ],
   "source": [
    "df = pd.read_csv('Data/winemag-data-130k-v2.csv', sep = ',')\n",
    "france = df[df.country.str.contains('France', na=False)]\n",
    "france.head(3)"
   ]
  },
  {
   "cell_type": "code",
   "execution_count": 71,
   "metadata": {},
   "outputs": [
    {
     "data": {
      "text/html": [
       "<div>\n",
       "<style scoped>\n",
       "    .dataframe tbody tr th:only-of-type {\n",
       "        vertical-align: middle;\n",
       "    }\n",
       "\n",
       "    .dataframe tbody tr th {\n",
       "        vertical-align: top;\n",
       "    }\n",
       "\n",
       "    .dataframe thead th {\n",
       "        text-align: right;\n",
       "    }\n",
       "</style>\n",
       "<table border=\"1\" class=\"dataframe\">\n",
       "  <thead>\n",
       "    <tr style=\"text-align: right;\">\n",
       "      <th></th>\n",
       "      <th>description</th>\n",
       "      <th>designation</th>\n",
       "      <th>points</th>\n",
       "      <th>price</th>\n",
       "      <th>province</th>\n",
       "      <th>region</th>\n",
       "      <th>title</th>\n",
       "      <th>variety</th>\n",
       "      <th>winery</th>\n",
       "      <th>year</th>\n",
       "    </tr>\n",
       "  </thead>\n",
       "  <tbody>\n",
       "    <tr>\n",
       "      <td>0</td>\n",
       "      <td>This dry and restrained wine offers spice in p...</td>\n",
       "      <td>NaN</td>\n",
       "      <td>87</td>\n",
       "      <td>24.0</td>\n",
       "      <td>Alsace</td>\n",
       "      <td>Alsace</td>\n",
       "      <td>Trimbach 2012 Gewurztraminer (Alsace)</td>\n",
       "      <td>Gewürztraminer</td>\n",
       "      <td>Trimbach</td>\n",
       "      <td>2012</td>\n",
       "    </tr>\n",
       "    <tr>\n",
       "      <td>1</td>\n",
       "      <td>This has great depth of flavor with its fresh ...</td>\n",
       "      <td>Les Natures</td>\n",
       "      <td>87</td>\n",
       "      <td>27.0</td>\n",
       "      <td>Alsace</td>\n",
       "      <td>Alsace</td>\n",
       "      <td>Jean-Baptiste Adam 2012 Les Natures Pinot Gris...</td>\n",
       "      <td>Pinot Gris</td>\n",
       "      <td>Jean-Baptiste Adam</td>\n",
       "      <td>2012</td>\n",
       "    </tr>\n",
       "    <tr>\n",
       "      <td>2</td>\n",
       "      <td>This is a dry wine, very spicy, with a tight, ...</td>\n",
       "      <td>NaN</td>\n",
       "      <td>87</td>\n",
       "      <td>30.0</td>\n",
       "      <td>Alsace</td>\n",
       "      <td>Alsace</td>\n",
       "      <td>Leon Beyer 2012 Gewurztraminer (Alsace)</td>\n",
       "      <td>Gewürztraminer</td>\n",
       "      <td>Leon Beyer</td>\n",
       "      <td>2012</td>\n",
       "    </tr>\n",
       "  </tbody>\n",
       "</table>\n",
       "</div>"
      ],
      "text/plain": [
       "                                         description  designation  points  \\\n",
       "0  This dry and restrained wine offers spice in p...          NaN      87   \n",
       "1  This has great depth of flavor with its fresh ...  Les Natures      87   \n",
       "2  This is a dry wine, very spicy, with a tight, ...          NaN      87   \n",
       "\n",
       "   price province  region                                              title  \\\n",
       "0   24.0   Alsace  Alsace              Trimbach 2012 Gewurztraminer (Alsace)   \n",
       "1   27.0   Alsace  Alsace  Jean-Baptiste Adam 2012 Les Natures Pinot Gris...   \n",
       "2   30.0   Alsace  Alsace            Leon Beyer 2012 Gewurztraminer (Alsace)   \n",
       "\n",
       "          variety              winery  year  \n",
       "0  Gewürztraminer            Trimbach  2012  \n",
       "1      Pinot Gris  Jean-Baptiste Adam  2012  \n",
       "2  Gewürztraminer          Leon Beyer  2012  "
      ]
     },
     "execution_count": 71,
     "metadata": {},
     "output_type": "execute_result"
    }
   ],
   "source": [
    "# Drop unnecessary columns\n",
    "wines = france.drop(['Unnamed: 0', 'country', 'region_2', 'taster_name','taster_twitter_handle'], axis=1)\\\n",
    "    .rename(columns={'region_1':'region'}).reset_index(drop = True)\n",
    "\n",
    "# Extract year from title\n",
    "wines['year'] = wines['title'].str.extract('(\\d{4})')\n",
    "wines.head(3)"
   ]
  },
  {
   "cell_type": "code",
   "execution_count": 72,
   "metadata": {},
   "outputs": [
    {
     "data": {
      "text/plain": [
       "array(['Alsace', 'Beaujolais', 'Bordeaux', 'Champagne', 'Burgundy',\n",
       "       'France Other', 'Southwest France', 'Rhône Valley',\n",
       "       'Languedoc-Roussillon', 'Provence', 'Loire Valley'], dtype=object)"
      ]
     },
     "execution_count": 72,
     "metadata": {},
     "output_type": "execute_result"
    }
   ],
   "source": [
    "wines.province.unique()"
   ]
  },
  {
   "cell_type": "markdown",
   "metadata": {},
   "source": [
    "### Replacing Southwest France with Midi-Pyrénées or Aquitaine"
   ]
  },
  {
   "cell_type": "code",
   "execution_count": 73,
   "metadata": {},
   "outputs": [
    {
     "data": {
      "text/plain": [
       "array(['Cahors', 'Madiran', 'Vin de Pays des Côtes de Gascogne',\n",
       "       'Côtes de Gascogne', 'Côtes du Lot', 'Gaillac', 'Montravel',\n",
       "       'Monbazillac', 'Gers', 'Fronton', 'Bergerac', 'Jurançon',\n",
       "       'Bergerac Sec', 'Buzet', 'Irrouléguy', 'Côtes du Marmandais',\n",
       "       'Pécharmant', 'Vin de Pays du Comté Tolosan', nan, 'Côtes du Tarn',\n",
       "       'Côtes de Bergerac', 'Pacherenc du Vic Bilh', 'Jurançon Sec',\n",
       "       'Côtes de Duras', 'Vin de Pays du Lot', 'Marcillac', 'Saint-Mont',\n",
       "       'Saussignac', 'Côtes du Frontonnais', 'Brulhois', 'Landes',\n",
       "       'Périgord', 'Bergerac Rosé', 'Lot', 'Béarn', 'Gaillac Doux',\n",
       "       'Côtes de Saint-Mont', 'Côtes de Montravel'], dtype=object)"
      ]
     },
     "execution_count": 73,
     "metadata": {},
     "output_type": "execute_result"
    }
   ],
   "source": [
    "wines[wines.province == 'Southwest France'].region.unique()"
   ]
  },
  {
   "cell_type": "code",
   "execution_count": 74,
   "metadata": {},
   "outputs": [],
   "source": [
    "midi_pyrenees = ['Cahors', 'Madiran', 'Côtes de Gascogne', 'Côtes du Lot', 'Gaillac Doux', \n",
    "                 'Gers', 'Fronton', 'Côtes du Tarn', 'Pacherenc du Vic Bilh', 'Vin de Pays du Lot', \n",
    "                 'Marcillac', 'Saint-Mont', 'Côtes du Frontonnais', 'Brulhois', 'Lot', \n",
    "                 'Côtes de Saint-Mont', 'Vin de Pays des Côtes de Gascogne']\n",
    "aquitaine = ['Montravel', 'Monbazillac', 'Bergerac', 'Bergerac Sec', 'Bergerac Rosé', \n",
    "             'Jurançon', 'Jurançon Sec', 'Buzet', 'Irrouléguy', \n",
    "             'Côtes du Marmandais', 'Pécharmant', 'Côtes de Bergerac', 'Côtes de Duras', \n",
    "             'Saussignac', 'Landes', 'Périgord', 'Béarn', 'Gaillac', 'Côtes de Montravel']"
   ]
  },
  {
   "cell_type": "code",
   "execution_count": 75,
   "metadata": {},
   "outputs": [],
   "source": [
    "wines.loc[wines.region.isin(midi_pyrenees), 'province'] = 'Midi Pyrénées'\n",
    "wines.loc[wines.region.isin(aquitaine), 'province'] = 'Aquitaine'"
   ]
  },
  {
   "cell_type": "code",
   "execution_count": 76,
   "metadata": {},
   "outputs": [
    {
     "data": {
      "text/plain": [
       "array(['Vin de Pays du Comté Tolosan', nan], dtype=object)"
      ]
     },
     "execution_count": 76,
     "metadata": {},
     "output_type": "execute_result"
    }
   ],
   "source": [
    "wines[wines.province == 'Southwest France'].region.unique()"
   ]
  },
  {
   "cell_type": "markdown",
   "metadata": {},
   "source": [
    "### Replacing France Other"
   ]
  },
  {
   "cell_type": "code",
   "execution_count": 77,
   "metadata": {},
   "outputs": [
    {
     "data": {
      "text/plain": [
       "array(['Vin de France', 'Arbois', 'Patrimonio', 'Crémant de Jura',\n",
       "       'Vin de Liqueur', 'Vin de Savoie', 'Mediterranée', 'Vin Mousseux',\n",
       "       'Corse', 'Ile de Beauté', 'Roussette de Savoie', 'Côtes du Jura',\n",
       "       'Savoie', 'Corse Porto Vecchio', 'Vin de Table Francais',\n",
       "       'Atlantique', 'Chignin-Bergeron', nan, 'France', 'Vin Pétillant',\n",
       "       'Château-Chalon', 'Vin de Pays des Portes de Méditerranée',\n",
       "       'Vin de Pays de la Méditerranée', \"Vin de Pays de l'Ile de Beauté\",\n",
       "       'Chignin', 'Côtes de Forez', 'Charentais', 'Vin de Pays de France',\n",
       "       'Apremont'], dtype=object)"
      ]
     },
     "execution_count": 77,
     "metadata": {},
     "output_type": "execute_result"
    }
   ],
   "source": [
    "wines[wines.province == 'France Other'].region.unique()"
   ]
  },
  {
   "cell_type": "code",
   "execution_count": 78,
   "metadata": {},
   "outputs": [],
   "source": [
    "corse = ['Corse', 'Patrimonio', 'Vin de Pays de l\\'Ile de Beauté', 'Ile de Beauté', 'Corse Porto Vecchio']\n",
    "rhone = ['Savoie', 'Vin de Savoie', 'Roussette de Savoie', 'Chignin', 'Côtes de Forez', 'Chignin-Bergeron']\n",
    "provence = ['Vin de Pays des Portes de Méditerranée']\n",
    "poitou_charantes = ['Charentais']\n",
    "franche_comte = ['Château-Chalon', 'Crémant de Jura', 'Côtes du Jura', 'Arbois']\n",
    "loire = ['Apremont']"
   ]
  },
  {
   "cell_type": "code",
   "execution_count": 79,
   "metadata": {},
   "outputs": [],
   "source": [
    "wines.loc[wines.region.isin(corse), 'province'] = 'Corse'\n",
    "wines.loc[wines.region.isin(rhone), 'province'] = 'Rhône Valley'\n",
    "wines.loc[wines.region.isin(provence), 'province'] = 'Provence'\n",
    "wines.loc[wines.region.isin(poitou_charantes), 'province'] = 'Poitou-Charentes'\n",
    "wines.loc[wines.region.isin(franche_comte), 'province'] = 'Franche-Comté'\n",
    "wines.loc[wines.region.isin(loire), 'province'] = 'Loire Valley'"
   ]
  },
  {
   "cell_type": "code",
   "execution_count": 80,
   "metadata": {},
   "outputs": [
    {
     "data": {
      "text/plain": [
       "array(['Vin de France', 'Vin de Liqueur', 'Mediterranée', 'Vin Mousseux',\n",
       "       'Vin de Table Francais', 'Atlantique', nan, 'France',\n",
       "       'Vin Pétillant', 'Vin de Pays de la Méditerranée',\n",
       "       'Vin de Pays de France'], dtype=object)"
      ]
     },
     "execution_count": 80,
     "metadata": {},
     "output_type": "execute_result"
    }
   ],
   "source": [
    "wines[wines.province == 'France Other'].region.unique()"
   ]
  },
  {
   "cell_type": "markdown",
   "metadata": {},
   "source": [
    "### Beaujolais = Brugundy & Bordeaux = Aquitaine"
   ]
  },
  {
   "cell_type": "code",
   "execution_count": 81,
   "metadata": {},
   "outputs": [],
   "source": [
    "wines.loc[wines.province == 'Beaujolais', 'province'] = 'Burgundy'\n",
    "wines.loc[wines.province == 'Bordeaux', 'province'] = 'Aquitaine'"
   ]
  },
  {
   "cell_type": "code",
   "execution_count": 82,
   "metadata": {},
   "outputs": [
    {
     "data": {
      "text/plain": [
       "array(['Alsace', 'Burgundy', 'Aquitaine', 'Champagne', 'France Other',\n",
       "       'Midi Pyrénées', 'Rhône Valley', 'Franche-Comté',\n",
       "       'Languedoc-Roussillon', 'Provence', 'Loire Valley', 'Corse',\n",
       "       'Southwest France', 'Poitou-Charentes'], dtype=object)"
      ]
     },
     "execution_count": 82,
     "metadata": {},
     "output_type": "execute_result"
    }
   ],
   "source": [
    "wines.province.unique()"
   ]
  },
  {
   "cell_type": "markdown",
   "metadata": {},
   "source": [
    "### Drop irrelevant provinces"
   ]
  },
  {
   "cell_type": "code",
   "execution_count": 83,
   "metadata": {},
   "outputs": [],
   "source": [
    "irr_prov = ['Southwest France', 'France Other']\n",
    "wines = wines[np.logical_not(wines.province.isin(irr_prov))]"
   ]
  },
  {
   "cell_type": "markdown",
   "metadata": {},
   "source": [
    "### Reame provinces to correct names"
   ]
  },
  {
   "cell_type": "code",
   "execution_count": 84,
   "metadata": {},
   "outputs": [],
   "source": [
    "wines.loc[wines.province == 'Burgundy', 'province'] = 'Bourgogne'\n",
    "wines.loc[wines.province == 'Champagne', 'province'] = 'Champagne-Ardenne'\n",
    "wines.loc[wines.province == 'Midi Pyrénées', 'province'] = 'Midi-Pyrénées'\n",
    "wines.loc[wines.province == 'Loire Valley', 'province'] = 'Pays-de-la-Loire'\n",
    "wines.loc[wines.province == 'Provence', 'province'] = 'Provence-Alpes-Côtes d\\'Azur'\n",
    "wines.loc[wines.province == 'Rhône Valley', 'province'] = 'Rhône-Alpes'"
   ]
  },
  {
   "cell_type": "code",
   "execution_count": 85,
   "metadata": {},
   "outputs": [
    {
     "data": {
      "text/plain": [
       "array(['Alsace', 'Bourgogne', 'Aquitaine', 'Champagne-Ardenne',\n",
       "       'Midi-Pyrénées', 'Rhône-Alpes', 'Franche-Comté',\n",
       "       'Languedoc-Roussillon', \"Provence-Alpes-Côtes d'Azur\",\n",
       "       'Pays-de-la-Loire', 'Corse', 'Poitou-Charentes'], dtype=object)"
      ]
     },
     "execution_count": 85,
     "metadata": {},
     "output_type": "execute_result"
    }
   ],
   "source": [
    "wines.province.unique()"
   ]
  },
  {
   "cell_type": "markdown",
   "metadata": {},
   "source": [
    "### Change points format"
   ]
  },
  {
   "cell_type": "code",
   "execution_count": 86,
   "metadata": {},
   "outputs": [],
   "source": [
    "wines.points = wines.points.div(10).round(1)"
   ]
  },
  {
   "cell_type": "code",
   "execution_count": 87,
   "metadata": {},
   "outputs": [],
   "source": [
    "wines.price = wines.price.round(1)"
   ]
  },
  {
   "cell_type": "code",
   "execution_count": 92,
   "metadata": {},
   "outputs": [
    {
     "data": {
      "text/html": [
       "<div>\n",
       "<style scoped>\n",
       "    .dataframe tbody tr th:only-of-type {\n",
       "        vertical-align: middle;\n",
       "    }\n",
       "\n",
       "    .dataframe tbody tr th {\n",
       "        vertical-align: top;\n",
       "    }\n",
       "\n",
       "    .dataframe thead th {\n",
       "        text-align: right;\n",
       "    }\n",
       "</style>\n",
       "<table border=\"1\" class=\"dataframe\">\n",
       "  <thead>\n",
       "    <tr style=\"text-align: right;\">\n",
       "      <th></th>\n",
       "      <th>description</th>\n",
       "      <th>designation</th>\n",
       "      <th>points</th>\n",
       "      <th>price</th>\n",
       "      <th>province</th>\n",
       "      <th>region</th>\n",
       "      <th>title</th>\n",
       "      <th>variety</th>\n",
       "      <th>winery</th>\n",
       "      <th>year</th>\n",
       "    </tr>\n",
       "  </thead>\n",
       "  <tbody>\n",
       "    <tr>\n",
       "      <td>0</td>\n",
       "      <td>This dry and restrained wine offers spice in p...</td>\n",
       "      <td>NaN</td>\n",
       "      <td>8.7</td>\n",
       "      <td>24.0</td>\n",
       "      <td>Alsace</td>\n",
       "      <td>Alsace</td>\n",
       "      <td>Trimbach 2012 Gewurztraminer (Alsace)</td>\n",
       "      <td>Gewürztraminer</td>\n",
       "      <td>Trimbach</td>\n",
       "      <td>2012</td>\n",
       "    </tr>\n",
       "    <tr>\n",
       "      <td>1</td>\n",
       "      <td>This has great depth of flavor with its fresh ...</td>\n",
       "      <td>Les Natures</td>\n",
       "      <td>8.7</td>\n",
       "      <td>27.0</td>\n",
       "      <td>Alsace</td>\n",
       "      <td>Alsace</td>\n",
       "      <td>Jean-Baptiste Adam 2012 Les Natures Pinot Gris...</td>\n",
       "      <td>Pinot Gris</td>\n",
       "      <td>Jean-Baptiste Adam</td>\n",
       "      <td>2012</td>\n",
       "    </tr>\n",
       "    <tr>\n",
       "      <td>2</td>\n",
       "      <td>This is a dry wine, very spicy, with a tight, ...</td>\n",
       "      <td>NaN</td>\n",
       "      <td>8.7</td>\n",
       "      <td>30.0</td>\n",
       "      <td>Alsace</td>\n",
       "      <td>Alsace</td>\n",
       "      <td>Leon Beyer 2012 Gewurztraminer (Alsace)</td>\n",
       "      <td>Gewürztraminer</td>\n",
       "      <td>Leon Beyer</td>\n",
       "      <td>2012</td>\n",
       "    </tr>\n",
       "  </tbody>\n",
       "</table>\n",
       "</div>"
      ],
      "text/plain": [
       "                                         description  designation  points  \\\n",
       "0  This dry and restrained wine offers spice in p...          NaN     8.7   \n",
       "1  This has great depth of flavor with its fresh ...  Les Natures     8.7   \n",
       "2  This is a dry wine, very spicy, with a tight, ...          NaN     8.7   \n",
       "\n",
       "   price province  region                                              title  \\\n",
       "0   24.0   Alsace  Alsace              Trimbach 2012 Gewurztraminer (Alsace)   \n",
       "1   27.0   Alsace  Alsace  Jean-Baptiste Adam 2012 Les Natures Pinot Gris...   \n",
       "2   30.0   Alsace  Alsace            Leon Beyer 2012 Gewurztraminer (Alsace)   \n",
       "\n",
       "          variety              winery  year  \n",
       "0  Gewürztraminer            Trimbach  2012  \n",
       "1      Pinot Gris  Jean-Baptiste Adam  2012  \n",
       "2  Gewürztraminer          Leon Beyer  2012  "
      ]
     },
     "execution_count": 92,
     "metadata": {},
     "output_type": "execute_result"
    }
   ],
   "source": [
    "wines.head(3)"
   ]
  },
  {
   "cell_type": "markdown",
   "metadata": {},
   "source": [
    "### Export the dataset"
   ]
  },
  {
   "cell_type": "code",
   "execution_count": 16,
   "metadata": {},
   "outputs": [],
   "source": [
    "# Export the wines dataset to Firebase\n",
    "wines.to_json(path_or_buf='Data/raw.json', orient='records')"
   ]
  },
  {
   "cell_type": "markdown",
   "metadata": {},
   "source": [
    "# Grouping the data"
   ]
  },
  {
   "cell_type": "code",
   "execution_count": 18,
   "metadata": {},
   "outputs": [
    {
     "data": {
      "text/html": [
       "<div>\n",
       "<style scoped>\n",
       "    .dataframe tbody tr th:only-of-type {\n",
       "        vertical-align: middle;\n",
       "    }\n",
       "\n",
       "    .dataframe tbody tr th {\n",
       "        vertical-align: top;\n",
       "    }\n",
       "\n",
       "    .dataframe thead th {\n",
       "        text-align: right;\n",
       "    }\n",
       "</style>\n",
       "<table border=\"1\" class=\"dataframe\">\n",
       "  <thead>\n",
       "    <tr style=\"text-align: right;\">\n",
       "      <th></th>\n",
       "      <th>description</th>\n",
       "      <th>designation</th>\n",
       "      <th>points</th>\n",
       "      <th>price</th>\n",
       "      <th>province</th>\n",
       "      <th>region</th>\n",
       "      <th>title</th>\n",
       "      <th>variety</th>\n",
       "      <th>winery</th>\n",
       "      <th>year</th>\n",
       "    </tr>\n",
       "  </thead>\n",
       "  <tbody>\n",
       "    <tr>\n",
       "      <th>0</th>\n",
       "      <td>This dry and restrained wine offers spice in p...</td>\n",
       "      <td>NaN</td>\n",
       "      <td>87</td>\n",
       "      <td>24.0</td>\n",
       "      <td>Alsace</td>\n",
       "      <td>Alsace</td>\n",
       "      <td>Trimbach 2012 Gewurztraminer (Alsace)</td>\n",
       "      <td>Gewürztraminer</td>\n",
       "      <td>Trimbach</td>\n",
       "      <td>2012</td>\n",
       "    </tr>\n",
       "  </tbody>\n",
       "</table>\n",
       "</div>"
      ],
      "text/plain": [
       "                                         description designation  points  \\\n",
       "0  This dry and restrained wine offers spice in p...         NaN      87   \n",
       "\n",
       "   price province  region                                  title  \\\n",
       "0   24.0   Alsace  Alsace  Trimbach 2012 Gewurztraminer (Alsace)   \n",
       "\n",
       "          variety    winery  year  \n",
       "0  Gewürztraminer  Trimbach  2012  "
      ]
     },
     "execution_count": 18,
     "metadata": {},
     "output_type": "execute_result"
    }
   ],
   "source": [
    "wines.head(1)"
   ]
  },
  {
   "cell_type": "markdown",
   "metadata": {},
   "source": [
    "### Data for home page"
   ]
  },
  {
   "cell_type": "code",
   "execution_count": 93,
   "metadata": {},
   "outputs": [
    {
     "data": {
      "text/html": [
       "<div>\n",
       "<style scoped>\n",
       "    .dataframe tbody tr th:only-of-type {\n",
       "        vertical-align: middle;\n",
       "    }\n",
       "\n",
       "    .dataframe tbody tr th {\n",
       "        vertical-align: top;\n",
       "    }\n",
       "\n",
       "    .dataframe thead th {\n",
       "        text-align: right;\n",
       "    }\n",
       "</style>\n",
       "<table border=\"1\" class=\"dataframe\">\n",
       "  <thead>\n",
       "    <tr style=\"text-align: right;\">\n",
       "      <th></th>\n",
       "      <th>province</th>\n",
       "      <th>regions</th>\n",
       "      <th>n_regions</th>\n",
       "      <th>n_varieties</th>\n",
       "      <th>avg_price</th>\n",
       "      <th>avg_points</th>\n",
       "    </tr>\n",
       "  </thead>\n",
       "  <tbody>\n",
       "    <tr>\n",
       "      <td>0</td>\n",
       "      <td>Alsace</td>\n",
       "      <td>[Alsace, Crémant d'Alsace]</td>\n",
       "      <td>2</td>\n",
       "      <td>20</td>\n",
       "      <td>30.376805</td>\n",
       "      <td>8.937213</td>\n",
       "    </tr>\n",
       "    <tr>\n",
       "      <td>1</td>\n",
       "      <td>Aquitaine</td>\n",
       "      <td>[Bordeaux Blanc, Saint-Émilion, Saint-Estèphe,...</td>\n",
       "      <td>63</td>\n",
       "      <td>35</td>\n",
       "      <td>37.375628</td>\n",
       "      <td>8.864757</td>\n",
       "    </tr>\n",
       "    <tr>\n",
       "      <td>2</td>\n",
       "      <td>Bourgogne</td>\n",
       "      <td>[Beaujolais-Villages, Beaujolais, Brouilly, Ch...</td>\n",
       "      <td>130</td>\n",
       "      <td>17</td>\n",
       "      <td>60.203188</td>\n",
       "      <td>8.923388</td>\n",
       "    </tr>\n",
       "  </tbody>\n",
       "</table>\n",
       "</div>"
      ],
      "text/plain": [
       "    province                                            regions  n_regions  \\\n",
       "0     Alsace                         [Alsace, Crémant d'Alsace]          2   \n",
       "1  Aquitaine  [Bordeaux Blanc, Saint-Émilion, Saint-Estèphe,...         63   \n",
       "2  Bourgogne  [Beaujolais-Villages, Beaujolais, Brouilly, Ch...        130   \n",
       "\n",
       "   n_varieties  avg_price  avg_points  \n",
       "0           20  30.376805    8.937213  \n",
       "1           35  37.375628    8.864757  \n",
       "2           17  60.203188    8.923388  "
      ]
     },
     "execution_count": 93,
     "metadata": {},
     "output_type": "execute_result"
    }
   ],
   "source": [
    "province_info = wines.groupby(['province']).agg(regions=('region', 'unique'), \n",
    "                                                 n_regions=('region', pd.Series.nunique),\n",
    "                                                 n_varieties=('variety', pd.Series.nunique), \n",
    "                                                 avg_price=('price', 'mean'), \n",
    "                                                 avg_points=('points', 'mean')).reset_index()"
   ]
  },
  {
   "cell_type": "code",
   "execution_count": 94,
   "metadata": {},
   "outputs": [
    {
     "data": {
      "text/html": [
       "<div>\n",
       "<style scoped>\n",
       "    .dataframe tbody tr th:only-of-type {\n",
       "        vertical-align: middle;\n",
       "    }\n",
       "\n",
       "    .dataframe tbody tr th {\n",
       "        vertical-align: top;\n",
       "    }\n",
       "\n",
       "    .dataframe thead th {\n",
       "        text-align: right;\n",
       "    }\n",
       "</style>\n",
       "<table border=\"1\" class=\"dataframe\">\n",
       "  <thead>\n",
       "    <tr style=\"text-align: right;\">\n",
       "      <th></th>\n",
       "      <th>province</th>\n",
       "      <th>regions</th>\n",
       "      <th>n_regions</th>\n",
       "      <th>n_varieties</th>\n",
       "      <th>avg_price</th>\n",
       "      <th>avg_points</th>\n",
       "    </tr>\n",
       "  </thead>\n",
       "  <tbody>\n",
       "    <tr>\n",
       "      <td>0</td>\n",
       "      <td>Alsace</td>\n",
       "      <td>[Alsace, Crémant d'Alsace]</td>\n",
       "      <td>2</td>\n",
       "      <td>20</td>\n",
       "      <td>30.4</td>\n",
       "      <td>8.9</td>\n",
       "    </tr>\n",
       "    <tr>\n",
       "      <td>1</td>\n",
       "      <td>Aquitaine</td>\n",
       "      <td>[Bordeaux Blanc, Saint-Émilion, Saint-Estèphe,...</td>\n",
       "      <td>63</td>\n",
       "      <td>35</td>\n",
       "      <td>37.4</td>\n",
       "      <td>8.9</td>\n",
       "    </tr>\n",
       "    <tr>\n",
       "      <td>2</td>\n",
       "      <td>Bourgogne</td>\n",
       "      <td>[Beaujolais-Villages, Beaujolais, Brouilly, Ch...</td>\n",
       "      <td>130</td>\n",
       "      <td>17</td>\n",
       "      <td>60.2</td>\n",
       "      <td>8.9</td>\n",
       "    </tr>\n",
       "  </tbody>\n",
       "</table>\n",
       "</div>"
      ],
      "text/plain": [
       "    province                                            regions  n_regions  \\\n",
       "0     Alsace                         [Alsace, Crémant d'Alsace]          2   \n",
       "1  Aquitaine  [Bordeaux Blanc, Saint-Émilion, Saint-Estèphe,...         63   \n",
       "2  Bourgogne  [Beaujolais-Villages, Beaujolais, Brouilly, Ch...        130   \n",
       "\n",
       "   n_varieties  avg_price  avg_points  \n",
       "0           20       30.4         8.9  \n",
       "1           35       37.4         8.9  \n",
       "2           17       60.2         8.9  "
      ]
     },
     "execution_count": 94,
     "metadata": {},
     "output_type": "execute_result"
    }
   ],
   "source": [
    "province_info.avg_points = province_info.avg_points.round(1)\n",
    "province_info.avg_price = province_info.avg_price.round(1)\n",
    "province_info.head(3)"
   ]
  },
  {
   "cell_type": "code",
   "execution_count": 33,
   "metadata": {},
   "outputs": [],
   "source": [
    "# Export province_info dataset\n",
    "province_info.to_json(path_or_buf='Data/province_info.json', orient='records')"
   ]
  },
  {
   "cell_type": "markdown",
   "metadata": {},
   "source": [
    "### Data for varieties page"
   ]
  },
  {
   "cell_type": "code",
   "execution_count": 110,
   "metadata": {},
   "outputs": [],
   "source": [
    "prov_varieties = wines.groupby(['province', 'variety'])\\\n",
    "                        .agg(regions=('region', 'unique'), \n",
    "                             n_titles=('title', 'count'), \n",
    "                             avg_price=('price', 'mean'), \n",
    "                             avg_points=('points', 'mean'))\\\n",
    "                        .sort_values(['province', 'n_titles'], ascending=[True, False])\\\n",
    "                        .reset_index()"
   ]
  },
  {
   "cell_type": "code",
   "execution_count": 112,
   "metadata": {},
   "outputs": [
    {
     "data": {
      "text/html": [
       "<div>\n",
       "<style scoped>\n",
       "    .dataframe tbody tr th:only-of-type {\n",
       "        vertical-align: middle;\n",
       "    }\n",
       "\n",
       "    .dataframe tbody tr th {\n",
       "        vertical-align: top;\n",
       "    }\n",
       "\n",
       "    .dataframe thead th {\n",
       "        text-align: right;\n",
       "    }\n",
       "</style>\n",
       "<table border=\"1\" class=\"dataframe\">\n",
       "  <thead>\n",
       "    <tr style=\"text-align: right;\">\n",
       "      <th></th>\n",
       "      <th>province</th>\n",
       "      <th>variety</th>\n",
       "      <th>regions</th>\n",
       "      <th>n_titles</th>\n",
       "      <th>avg_price</th>\n",
       "      <th>avg_points</th>\n",
       "    </tr>\n",
       "  </thead>\n",
       "  <tbody>\n",
       "    <tr>\n",
       "      <td>0</td>\n",
       "      <td>Alsace</td>\n",
       "      <td>Riesling</td>\n",
       "      <td>[Alsace, Crémant d'Alsace]</td>\n",
       "      <td>718</td>\n",
       "      <td>32.4</td>\n",
       "      <td>9.0</td>\n",
       "    </tr>\n",
       "    <tr>\n",
       "      <td>1</td>\n",
       "      <td>Alsace</td>\n",
       "      <td>Gewürztraminer</td>\n",
       "      <td>[Alsace]</td>\n",
       "      <td>476</td>\n",
       "      <td>34.3</td>\n",
       "      <td>8.9</td>\n",
       "    </tr>\n",
       "    <tr>\n",
       "      <td>2</td>\n",
       "      <td>Alsace</td>\n",
       "      <td>Pinot Gris</td>\n",
       "      <td>[Alsace, Crémant d'Alsace]</td>\n",
       "      <td>458</td>\n",
       "      <td>33.4</td>\n",
       "      <td>9.0</td>\n",
       "    </tr>\n",
       "  </tbody>\n",
       "</table>\n",
       "</div>"
      ],
      "text/plain": [
       "  province         variety                     regions  n_titles  avg_price  \\\n",
       "0   Alsace        Riesling  [Alsace, Crémant d'Alsace]       718       32.4   \n",
       "1   Alsace  Gewürztraminer                    [Alsace]       476       34.3   \n",
       "2   Alsace      Pinot Gris  [Alsace, Crémant d'Alsace]       458       33.4   \n",
       "\n",
       "   avg_points  \n",
       "0         9.0  \n",
       "1         8.9  \n",
       "2         9.0  "
      ]
     },
     "execution_count": 112,
     "metadata": {},
     "output_type": "execute_result"
    }
   ],
   "source": [
    "prov_varieties.avg_points = prov_varieties.avg_points.round(1)\n",
    "prov_varieties.avg_price = prov_varieties.avg_price.round(1)\n",
    "prov_varieties.head(3)"
   ]
  },
  {
   "cell_type": "code",
   "execution_count": 25,
   "metadata": {},
   "outputs": [],
   "source": [
    "# Export prov_varieties dataset\n",
    "prov_varieties.to_json(path_or_buf='Data/prov_varieties.json', orient='records')"
   ]
  },
  {
   "cell_type": "markdown",
   "metadata": {},
   "source": [
    "### Data for search engine page"
   ]
  },
  {
   "cell_type": "code",
   "execution_count": 115,
   "metadata": {},
   "outputs": [],
   "source": [
    "varieties = wines.groupby(['variety'])\\\n",
    "                        .agg(provinces=('province', 'unique'), \n",
    "                             n_titles=('title', 'count'), \n",
    "                             avg_price=('price', 'mean'), \n",
    "                             avg_points=('points', 'mean'))\\\n",
    "                        .sort_values(['n_titles'], ascending=[False])\\\n",
    "                        .reset_index()"
   ]
  },
  {
   "cell_type": "code",
   "execution_count": 116,
   "metadata": {},
   "outputs": [
    {
     "data": {
      "text/html": [
       "<div>\n",
       "<style scoped>\n",
       "    .dataframe tbody tr th:only-of-type {\n",
       "        vertical-align: middle;\n",
       "    }\n",
       "\n",
       "    .dataframe tbody tr th {\n",
       "        vertical-align: top;\n",
       "    }\n",
       "\n",
       "    .dataframe thead th {\n",
       "        text-align: right;\n",
       "    }\n",
       "</style>\n",
       "<table border=\"1\" class=\"dataframe\">\n",
       "  <thead>\n",
       "    <tr style=\"text-align: right;\">\n",
       "      <th></th>\n",
       "      <th>variety</th>\n",
       "      <th>provinces</th>\n",
       "      <th>n_titles</th>\n",
       "      <th>avg_price</th>\n",
       "      <th>avg_points</th>\n",
       "    </tr>\n",
       "  </thead>\n",
       "  <tbody>\n",
       "    <tr>\n",
       "      <td>0</td>\n",
       "      <td>Bordeaux-style Red Blend</td>\n",
       "      <td>[Aquitaine, Midi-Pyrénées, Provence-Alpes-Côte...</td>\n",
       "      <td>4724</td>\n",
       "      <td>40.9</td>\n",
       "      <td>8.9</td>\n",
       "    </tr>\n",
       "    <tr>\n",
       "      <td>1</td>\n",
       "      <td>Chardonnay</td>\n",
       "      <td>[Bourgogne, Champagne-Ardenne, Languedoc-Rouss...</td>\n",
       "      <td>2769</td>\n",
       "      <td>58.1</td>\n",
       "      <td>8.9</td>\n",
       "    </tr>\n",
       "    <tr>\n",
       "      <td>2</td>\n",
       "      <td>Pinot Noir</td>\n",
       "      <td>[Bourgogne, Alsace, Pays-de-la-Loire, Rhône-Al...</td>\n",
       "      <td>1928</td>\n",
       "      <td>83.5</td>\n",
       "      <td>9.0</td>\n",
       "    </tr>\n",
       "  </tbody>\n",
       "</table>\n",
       "</div>"
      ],
      "text/plain": [
       "                    variety  \\\n",
       "0  Bordeaux-style Red Blend   \n",
       "1                Chardonnay   \n",
       "2                Pinot Noir   \n",
       "\n",
       "                                           provinces  n_titles  avg_price  \\\n",
       "0  [Aquitaine, Midi-Pyrénées, Provence-Alpes-Côte...      4724       40.9   \n",
       "1  [Bourgogne, Champagne-Ardenne, Languedoc-Rouss...      2769       58.1   \n",
       "2  [Bourgogne, Alsace, Pays-de-la-Loire, Rhône-Al...      1928       83.5   \n",
       "\n",
       "   avg_points  \n",
       "0         8.9  \n",
       "1         8.9  \n",
       "2         9.0  "
      ]
     },
     "execution_count": 116,
     "metadata": {},
     "output_type": "execute_result"
    }
   ],
   "source": [
    "varieties.avg_points = varieties.avg_points.round(1)\n",
    "varieties.avg_price = varieties.avg_price.round(1)\n",
    "varieties.head(3)"
   ]
  },
  {
   "cell_type": "code",
   "execution_count": null,
   "metadata": {},
   "outputs": [],
   "source": [
    "# Export varieties dataset\n",
    "varieties.to_json(path_or_buf='Data/varieties.json', orient='records')"
   ]
  },
  {
   "cell_type": "code",
   "execution_count": null,
   "metadata": {},
   "outputs": [],
   "source": []
  },
  {
   "cell_type": "code",
   "execution_count": null,
   "metadata": {},
   "outputs": [],
   "source": []
  },
  {
   "cell_type": "code",
   "execution_count": null,
   "metadata": {},
   "outputs": [],
   "source": []
  },
  {
   "cell_type": "code",
   "execution_count": null,
   "metadata": {},
   "outputs": [],
   "source": []
  },
  {
   "cell_type": "code",
   "execution_count": null,
   "metadata": {},
   "outputs": [],
   "source": []
  },
  {
   "cell_type": "code",
   "execution_count": null,
   "metadata": {},
   "outputs": [],
   "source": []
  },
  {
   "cell_type": "markdown",
   "metadata": {},
   "source": [
    "### Look at the data"
   ]
  },
  {
   "cell_type": "code",
   "execution_count": 27,
   "metadata": {},
   "outputs": [
    {
     "data": {
      "text/plain": [
       "Aquitaine               6370\n",
       "Burgundy                5024\n",
       "Alsace                  2440\n",
       "Loire Valley            1857\n",
       "Champagne               1613\n",
       "Provence                1349\n",
       "Rhône Valley            1139\n",
       "Midi Pyrénées           1036\n",
       "Languedoc-Roussillon     613\n",
       "Corse                    113\n",
       "Franche-Comté             73\n",
       "Poitou-Charentes           2\n",
       "Name: province, dtype: int64"
      ]
     },
     "execution_count": 27,
     "metadata": {},
     "output_type": "execute_result"
    }
   ],
   "source": [
    "wines.province.value_counts()"
   ]
  },
  {
   "cell_type": "code",
   "execution_count": 28,
   "metadata": {},
   "outputs": [
    {
     "data": {
      "text/html": [
       "<div>\n",
       "<style scoped>\n",
       "    .dataframe tbody tr th:only-of-type {\n",
       "        vertical-align: middle;\n",
       "    }\n",
       "\n",
       "    .dataframe tbody tr th {\n",
       "        vertical-align: top;\n",
       "    }\n",
       "\n",
       "    .dataframe thead th {\n",
       "        text-align: right;\n",
       "    }\n",
       "</style>\n",
       "<table border=\"1\" class=\"dataframe\">\n",
       "  <thead>\n",
       "    <tr style=\"text-align: right;\">\n",
       "      <th></th>\n",
       "      <th>region</th>\n",
       "    </tr>\n",
       "    <tr>\n",
       "      <th>province</th>\n",
       "      <th></th>\n",
       "    </tr>\n",
       "  </thead>\n",
       "  <tbody>\n",
       "    <tr>\n",
       "      <th>Alsace</th>\n",
       "      <td>2</td>\n",
       "    </tr>\n",
       "    <tr>\n",
       "      <th>Aquitaine</th>\n",
       "      <td>63</td>\n",
       "    </tr>\n",
       "    <tr>\n",
       "      <th>Burgundy</th>\n",
       "      <td>130</td>\n",
       "    </tr>\n",
       "    <tr>\n",
       "      <th>Champagne</th>\n",
       "      <td>1</td>\n",
       "    </tr>\n",
       "    <tr>\n",
       "      <th>Corse</th>\n",
       "      <td>5</td>\n",
       "    </tr>\n",
       "    <tr>\n",
       "      <th>Franche-Comté</th>\n",
       "      <td>4</td>\n",
       "    </tr>\n",
       "    <tr>\n",
       "      <th>Languedoc-Roussillon</th>\n",
       "      <td>50</td>\n",
       "    </tr>\n",
       "    <tr>\n",
       "      <th>Loire Valley</th>\n",
       "      <td>48</td>\n",
       "    </tr>\n",
       "    <tr>\n",
       "      <th>Midi Pyrénées</th>\n",
       "      <td>17</td>\n",
       "    </tr>\n",
       "    <tr>\n",
       "      <th>Poitou-Charentes</th>\n",
       "      <td>1</td>\n",
       "    </tr>\n",
       "    <tr>\n",
       "      <th>Provence</th>\n",
       "      <td>16</td>\n",
       "    </tr>\n",
       "    <tr>\n",
       "      <th>Rhône Valley</th>\n",
       "      <td>38</td>\n",
       "    </tr>\n",
       "  </tbody>\n",
       "</table>\n",
       "</div>"
      ],
      "text/plain": [
       "                      region\n",
       "province                    \n",
       "Alsace                     2\n",
       "Aquitaine                 63\n",
       "Burgundy                 130\n",
       "Champagne                  1\n",
       "Corse                      5\n",
       "Franche-Comté              4\n",
       "Languedoc-Roussillon      50\n",
       "Loire Valley              48\n",
       "Midi Pyrénées             17\n",
       "Poitou-Charentes           1\n",
       "Provence                  16\n",
       "Rhône Valley              38"
      ]
     },
     "execution_count": 28,
     "metadata": {},
     "output_type": "execute_result"
    }
   ],
   "source": [
    "provinces = wines.groupby(['province', 'region']).agg({'variety':'count'}).reset_index()\n",
    "provinces.groupby(['province']).agg({'region':'count'})"
   ]
  },
  {
   "cell_type": "markdown",
   "metadata": {},
   "source": [
    "We have to many regions for our visualization. Look for example at Brugundy. We just want a simple visualization for wine amateurs and aren't interested in tiny regions."
   ]
  },
  {
   "cell_type": "markdown",
   "metadata": {},
   "source": [
    "### What happens when cleaning varieties & regions a little?\n",
    "\n",
    "We only want to study the most common varieties as the visualization is meant for amateurs."
   ]
  },
  {
   "cell_type": "code",
   "execution_count": 29,
   "metadata": {},
   "outputs": [],
   "source": [
    "varieties = wines.variety.value_counts()"
   ]
  },
  {
   "cell_type": "code",
   "execution_count": 30,
   "metadata": {},
   "outputs": [],
   "source": [
    "# Create dataset with only these varietes. \n",
    "condition = varieties > 100\n",
    "wanted_varieties = varieties[condition]\n",
    "\n",
    "wines_lim = wines[wines.variety.isin(wanted_varieties.index)]"
   ]
  },
  {
   "cell_type": "code",
   "execution_count": 31,
   "metadata": {},
   "outputs": [
    {
     "data": {
      "text/plain": [
       "Aquitaine               6239\n",
       "Burgundy                4985\n",
       "Alsace                  2283\n",
       "Loire Valley            1797\n",
       "Champagne               1594\n",
       "Provence                1215\n",
       "Rhône Valley             968\n",
       "Midi Pyrénées            709\n",
       "Languedoc-Roussillon     502\n",
       "Corse                     81\n",
       "Franche-Comté             45\n",
       "Poitou-Charentes           2\n",
       "Name: province, dtype: int64"
      ]
     },
     "execution_count": 31,
     "metadata": {},
     "output_type": "execute_result"
    }
   ],
   "source": [
    "wines_lim.province.value_counts()"
   ]
  },
  {
   "cell_type": "markdown",
   "metadata": {},
   "source": [
    "We also want to study the most common regions as the visualization is for amateurs."
   ]
  },
  {
   "cell_type": "code",
   "execution_count": 32,
   "metadata": {},
   "outputs": [],
   "source": [
    "regions = wines_lim.region.value_counts()"
   ]
  },
  {
   "cell_type": "code",
   "execution_count": 33,
   "metadata": {},
   "outputs": [],
   "source": [
    "# Create dataset with only these varietes. \n",
    "condition = regions > 8\n",
    "wanted_regions = regions[condition]\n",
    "\n",
    "wines_lim = wines_lim[wines_lim.region.isin(wanted_regions.index)]"
   ]
  },
  {
   "cell_type": "code",
   "execution_count": 34,
   "metadata": {},
   "outputs": [
    {
     "data": {
      "text/plain": [
       "Aquitaine               6153\n",
       "Burgundy                4774\n",
       "Alsace                  2283\n",
       "Loire Valley            1739\n",
       "Champagne               1594\n",
       "Provence                1193\n",
       "Rhône Valley             897\n",
       "Midi Pyrénées            680\n",
       "Languedoc-Roussillon     408\n",
       "Corse                     75\n",
       "Franche-Comté             45\n",
       "Name: province, dtype: int64"
      ]
     },
     "execution_count": 34,
     "metadata": {},
     "output_type": "execute_result"
    }
   ],
   "source": [
    "wines_lim.province.value_counts()"
   ]
  },
  {
   "cell_type": "markdown",
   "metadata": {},
   "source": [
    "We still have a good representation of provinces when doing so."
   ]
  },
  {
   "cell_type": "code",
   "execution_count": 35,
   "metadata": {},
   "outputs": [
    {
     "data": {
      "text/html": [
       "<div>\n",
       "<style scoped>\n",
       "    .dataframe tbody tr th:only-of-type {\n",
       "        vertical-align: middle;\n",
       "    }\n",
       "\n",
       "    .dataframe tbody tr th {\n",
       "        vertical-align: top;\n",
       "    }\n",
       "\n",
       "    .dataframe thead th {\n",
       "        text-align: right;\n",
       "    }\n",
       "</style>\n",
       "<table border=\"1\" class=\"dataframe\">\n",
       "  <thead>\n",
       "    <tr style=\"text-align: right;\">\n",
       "      <th></th>\n",
       "      <th>region</th>\n",
       "    </tr>\n",
       "    <tr>\n",
       "      <th>province</th>\n",
       "      <th></th>\n",
       "    </tr>\n",
       "  </thead>\n",
       "  <tbody>\n",
       "    <tr>\n",
       "      <th>Alsace</th>\n",
       "      <td>2</td>\n",
       "    </tr>\n",
       "    <tr>\n",
       "      <th>Aquitaine</th>\n",
       "      <td>42</td>\n",
       "    </tr>\n",
       "    <tr>\n",
       "      <th>Burgundy</th>\n",
       "      <td>74</td>\n",
       "    </tr>\n",
       "    <tr>\n",
       "      <th>Champagne</th>\n",
       "      <td>1</td>\n",
       "    </tr>\n",
       "    <tr>\n",
       "      <th>Corse</th>\n",
       "      <td>3</td>\n",
       "    </tr>\n",
       "    <tr>\n",
       "      <th>Franche-Comté</th>\n",
       "      <td>3</td>\n",
       "    </tr>\n",
       "    <tr>\n",
       "      <th>Languedoc-Roussillon</th>\n",
       "      <td>13</td>\n",
       "    </tr>\n",
       "    <tr>\n",
       "      <th>Loire Valley</th>\n",
       "      <td>25</td>\n",
       "    </tr>\n",
       "    <tr>\n",
       "      <th>Midi Pyrénées</th>\n",
       "      <td>8</td>\n",
       "    </tr>\n",
       "    <tr>\n",
       "      <th>Provence</th>\n",
       "      <td>9</td>\n",
       "    </tr>\n",
       "    <tr>\n",
       "      <th>Rhône Valley</th>\n",
       "      <td>15</td>\n",
       "    </tr>\n",
       "  </tbody>\n",
       "</table>\n",
       "</div>"
      ],
      "text/plain": [
       "                      region\n",
       "province                    \n",
       "Alsace                     2\n",
       "Aquitaine                 42\n",
       "Burgundy                  74\n",
       "Champagne                  1\n",
       "Corse                      3\n",
       "Franche-Comté              3\n",
       "Languedoc-Roussillon      13\n",
       "Loire Valley              25\n",
       "Midi Pyrénées              8\n",
       "Provence                   9\n",
       "Rhône Valley              15"
      ]
     },
     "execution_count": 35,
     "metadata": {},
     "output_type": "execute_result"
    }
   ],
   "source": [
    "provinces = wines_lim.groupby(['province', 'region']).agg({'variety':'count'}).reset_index()\n",
    "provinces.groupby(['province']).agg({'region':'count'})"
   ]
  },
  {
   "cell_type": "markdown",
   "metadata": {},
   "source": [
    "We now have a better representation for regions. We can clearly see which provinces are larger wine producers and we don't have as many regions for Burgundy."
   ]
  },
  {
   "cell_type": "markdown",
   "metadata": {},
   "source": [
    "### Extracting all province names"
   ]
  },
  {
   "cell_type": "code",
   "execution_count": 37,
   "metadata": {},
   "outputs": [
    {
     "data": {
      "text/plain": [
       "array(['Alsace', 'Burgundy', 'Aquitaine', 'Champagne', 'Midi Pyrénées',\n",
       "       'Rhône Valley', 'Franche-Comté', 'Languedoc-Roussillon',\n",
       "       'Provence', 'Loire Valley', 'Corse', 'Poitou-Charentes'],\n",
       "      dtype=object)"
      ]
     },
     "execution_count": 37,
     "metadata": {},
     "output_type": "execute_result"
    }
   ],
   "source": [
    "wines.province.unique()"
   ]
  },
  {
   "cell_type": "code",
   "execution_count": null,
   "metadata": {},
   "outputs": [],
   "source": []
  },
  {
   "cell_type": "code",
   "execution_count": null,
   "metadata": {},
   "outputs": [],
   "source": [
    "#wines.loc[wines.region == 'Vin de Pays des Côtes de Gascogne', 'region'] = 'Côtes de Gascogne'\n",
    "#wines.loc[wines.region == 'Vin de Pays du Lot', 'region'] = 'Lot'\n",
    "#wines.loc[wines.region == 'Bergerac Sec', 'region'] = 'Bergerac'\n",
    "#wines.loc[wines.region == 'Jurançon Sec', 'region'] = 'Jurançon'\n",
    "#wines.loc[wines.region == 'Bergerac Rosé', 'region'] = 'Bergerac'\n",
    "#wines.loc[wines.region == 'Gaillac Doux', 'region'] = 'Gaillac'"
   ]
  },
  {
   "cell_type": "code",
   "execution_count": null,
   "metadata": {},
   "outputs": [],
   "source": [
    "#wines.loc[wines.region == 'Roussette de Savoie', 'region'] = 'Savoie'\n",
    "#wines.loc[wines.region == 'Vin de Savoie', 'region'] = 'Savoie'\n",
    "#wines.loc[wines.region == 'Crémant de Jura', 'region'] = 'Jura'"
   ]
  }
 ],
 "metadata": {
  "kernelspec": {
   "display_name": "Python 3",
   "language": "python",
   "name": "python3"
  },
  "language_info": {
   "codemirror_mode": {
    "name": "ipython",
    "version": 3
   },
   "file_extension": ".py",
   "mimetype": "text/x-python",
   "name": "python",
   "nbconvert_exporter": "python",
   "pygments_lexer": "ipython3",
   "version": "3.7.3"
  }
 },
 "nbformat": 4,
 "nbformat_minor": 4
}
